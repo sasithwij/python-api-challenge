{
 "cells": [
  {
   "cell_type": "markdown",
   "metadata": {},
   "source": [
    "# WeatherPy\n",
    "----\n",
    "\n",
    "#### Note\n",
    "* Instructions have been included for each segment. You do not have to follow them exactly, but they are included to help you think through the steps."
   ]
  },
  {
   "cell_type": "code",
   "execution_count": 1,
   "metadata": {
    "scrolled": true
   },
   "outputs": [
    {
     "name": "stdout",
     "output_type": "stream",
     "text": [
      "Requirement already satisfied: citipy in c:\\users\\sasit\\anaconda3\\envs\\pythondata1\\lib\\site-packages (0.0.5)\n",
      "Requirement already satisfied: kdtree>=0.12 in c:\\users\\sasit\\anaconda3\\envs\\pythondata1\\lib\\site-packages (from citipy) (0.16)\n"
     ]
    }
   ],
   "source": [
    "! pip install citipy"
   ]
  },
  {
   "cell_type": "code",
   "execution_count": 2,
   "metadata": {},
   "outputs": [],
   "source": [
    "# Dependencies\n",
    "import matplotlib.pyplot as plt\n",
    "import requests\n",
    "from scipy import stats\n",
    "import pandas as pd\n",
    "import random\n",
    "from config import api_key\n",
    "import sys\n",
    "\n",
    "#Import citipy for generation of random cities\n",
    "from citipy import citipy"
   ]
  },
  {
   "cell_type": "markdown",
   "metadata": {},
   "source": [
    "## Generate Cities List"
   ]
  },
  {
   "cell_type": "code",
   "execution_count": 3,
   "metadata": {},
   "outputs": [],
   "source": [
    "#Create list of 500 random countries using citipy\n",
    "\n",
    "# Latitude and longtitude max and min\n",
    "latmin = -90\n",
    "latmax = 90\n",
    "\n",
    "longmin = -180\n",
    "longmax = 180\n",
    "\n",
    "# Set a count to get 500 cities and open empty list to add cities and countries\n",
    "count = 0\n",
    "cities = []\n",
    "\n",
    "#Generate random latitude and longitude coordinates\n",
    "while count < 600:\n",
    "    lat = random.uniform(latmin, latmax)\n",
    "    long = random.uniform(longmin, longmax)\n",
    "\n",
    "#Find nearest city to those latitude and longitude values using citypy\n",
    "    loc = citipy.nearest_city(lat, long)\n",
    "    city = loc.city_name\n",
    "    if city: \n",
    "        if city not in cities:\n",
    "            cities.append(city)\n",
    "            count = count + 1\n",
    "        else:\n",
    "            pass"
   ]
  },
  {
   "cell_type": "markdown",
   "metadata": {},
   "source": [
    "### Perform API Calls\n",
    "* Perform a weather check on each city using a series of successive API calls.\n",
    "* Include a print log of each city as it'sbeing processed (with the city number and city name).\n"
   ]
  },
  {
   "cell_type": "code",
   "execution_count": 4,
   "metadata": {
    "scrolled": true
   },
   "outputs": [
    {
     "name": "stdout",
     "output_type": "stream",
     "text": [
      "City Number 1 : kikwit found! Appending data\n",
      "City Number 2 : tarko-sale found! Appending data\n",
      "City Number 3 : mar del plata found! Appending data\n",
      "City not found\n",
      "City not found\n",
      "City Number 4 : basco found! Appending data\n",
      "City Number 5 : charleston found! Appending data\n",
      "City Number 6 : carnarvon found! Appending data\n",
      "City Number 7 : ponta do sol found! Appending data\n",
      "City Number 8 : sinegorskiy found! Appending data\n",
      "City Number 9 : jinchang found! Appending data\n",
      "City Number 10 : farmington found! Appending data\n",
      "City Number 11 : bengkulu found! Appending data\n",
      "City Number 12 : hilo found! Appending data\n",
      "City Number 13 : punta arenas found! Appending data\n",
      "City Number 14 : nur found! Appending data\n",
      "City Number 15 : banka found! Appending data\n",
      "City Number 16 : tokmak found! Appending data\n",
      "City Number 17 : san miguel found! Appending data\n",
      "City Number 18 : kodiak found! Appending data\n",
      "City Number 19 : bluff found! Appending data\n",
      "City Number 20 : karratha found! Appending data\n",
      "City Number 21 : ushuaia found! Appending data\n",
      "City Number 22 : martil found! Appending data\n",
      "City Number 23 : kruisfontein found! Appending data\n",
      "City Number 24 : camabatela found! Appending data\n",
      "City Number 25 : hithadhoo found! Appending data\n",
      "City Number 26 : georgetown found! Appending data\n",
      "City Number 27 : yellowknife found! Appending data\n",
      "City Number 28 : mataura found! Appending data\n",
      "City Number 29 : padang found! Appending data\n",
      "City Number 30 : victoria found! Appending data\n",
      "City Number 31 : sao joao da barra found! Appending data\n",
      "City Number 32 : puerto leguizamo found! Appending data\n",
      "City Number 33 : dzilam gonzalez found! Appending data\n",
      "City not found\n",
      "City Number 34 : kaeo found! Appending data\n",
      "City Number 35 : qaanaaq found! Appending data\n",
      "City Number 36 : ribeira grande found! Appending data\n",
      "City Number 37 : cape town found! Appending data\n",
      "City Number 38 : busselton found! Appending data\n",
      "City Number 39 : east london found! Appending data\n",
      "City Number 40 : jamestown found! Appending data\n",
      "City Number 41 : brigantine found! Appending data\n",
      "City Number 42 : angoche found! Appending data\n",
      "City Number 43 : elk found! Appending data\n",
      "City Number 44 : atuona found! Appending data\n",
      "City Number 45 : albany found! Appending data\n",
      "City Number 46 : new norfolk found! Appending data\n",
      "City Number 47 : vostok found! Appending data\n",
      "City Number 48 : russkiy aktash found! Appending data\n",
      "City Number 49 : tres arroyos found! Appending data\n",
      "City Number 50 : sakakah found! Appending data\n",
      "City Number 51 : hobart found! Appending data\n",
      "City Number 52 : dikson found! Appending data\n",
      "City not found\n",
      "City Number 53 : merauke found! Appending data\n",
      "City Number 54 : severo-kurilsk found! Appending data\n",
      "City Number 55 : svetlogorsk found! Appending data\n",
      "City not found\n",
      "City Number 56 : paka found! Appending data\n",
      "City Number 57 : kaitangata found! Appending data\n",
      "City Number 58 : reconquista found! Appending data\n",
      "City Number 59 : fort nelson found! Appending data\n",
      "City Number 60 : abu samrah found! Appending data\n",
      "City Number 61 : springbok found! Appending data\n",
      "City Number 62 : kavieng found! Appending data\n",
      "City Number 63 : port alfred found! Appending data\n",
      "City Number 64 : kapaa found! Appending data\n",
      "City Number 65 : cedar city found! Appending data\n",
      "City Number 66 : puerto ayora found! Appending data\n",
      "City Number 67 : saldanha found! Appending data\n",
      "City Number 68 : jorochito found! Appending data\n",
      "City Number 69 : abha found! Appending data\n",
      "City Number 70 : bantou found! Appending data\n",
      "City Number 71 : mbandaka found! Appending data\n",
      "City not found\n",
      "City Number 72 : bac lieu found! Appending data\n",
      "City Number 73 : vila velha found! Appending data\n",
      "City Number 74 : port blair found! Appending data\n",
      "City Number 75 : springdale found! Appending data\n",
      "City Number 76 : rikitea found! Appending data\n",
      "City not found\n",
      "City Number 77 : beloha found! Appending data\n",
      "City Number 78 : ankang found! Appending data\n",
      "City not found\n",
      "City not found\n",
      "City Number 79 : karpathos found! Appending data\n",
      "City Number 80 : boyuibe found! Appending data\n",
      "City not found\n",
      "City Number 81 : sale found! Appending data\n",
      "City Number 82 : bambous virieux found! Appending data\n",
      "City Number 83 : hamilton found! Appending data\n",
      "City Number 84 : vaitape found! Appending data\n",
      "City Number 85 : faanui found! Appending data\n",
      "City Number 86 : vao found! Appending data\n",
      "City Number 87 : tiksi found! Appending data\n",
      "City Number 88 : bredasdorp found! Appending data\n",
      "City Number 89 : san patricio found! Appending data\n",
      "City Number 90 : ust-uda found! Appending data\n",
      "City Number 91 : airai found! Appending data\n",
      "City Number 92 : bainbridge found! Appending data\n",
      "City Number 93 : mani found! Appending data\n",
      "City Number 94 : butaritari found! Appending data\n",
      "City Number 95 : nanortalik found! Appending data\n",
      "City Number 96 : springfield found! Appending data\n",
      "City Number 97 : millinocket found! Appending data\n",
      "City Number 98 : fredericton found! Appending data\n",
      "City Number 99 : bilibino found! Appending data\n",
      "City Number 100 : berezovyy found! Appending data\n",
      "City Number 101 : upernavik found! Appending data\n",
      "City Number 102 : alghero found! Appending data\n",
      "City Number 103 : esperance found! Appending data\n",
      "City Number 104 : sola found! Appending data\n",
      "City Number 105 : atar found! Appending data\n",
      "City Number 106 : nome found! Appending data\n",
      "City not found\n",
      "City Number 107 : tasiilaq found! Appending data\n",
      "City Number 108 : katsuura found! Appending data\n",
      "City Number 109 : san policarpo found! Appending data\n",
      "City Number 110 : fortuna found! Appending data\n",
      "City Number 111 : alofi found! Appending data\n",
      "City Number 112 : aripuana found! Appending data\n",
      "City Number 113 : jumla found! Appending data\n",
      "City Number 114 : maxixe found! Appending data\n",
      "City Number 115 : mayumba found! Appending data\n",
      "City Number 116 : tahoua found! Appending data\n",
      "City Number 117 : fare found! Appending data\n",
      "City Number 118 : barrow found! Appending data\n",
      "City Number 119 : bethel found! Appending data\n",
      "City Number 120 : anadyr found! Appending data\n",
      "City Number 121 : lebu found! Appending data\n",
      "City Number 122 : port hardy found! Appending data\n",
      "City Number 123 : chokurdakh found! Appending data\n",
      "City Number 124 : husavik found! Appending data\n",
      "City Number 125 : hirara found! Appending data\n",
      "City Number 126 : dunedin found! Appending data\n",
      "City Number 127 : riyadh found! Appending data\n",
      "City Number 128 : nabire found! Appending data\n",
      "City Number 129 : pitimbu found! Appending data\n",
      "City Number 130 : cetate found! Appending data\n",
      "City Number 131 : castro found! Appending data\n",
      "City Number 132 : rundu found! Appending data\n",
      "City Number 133 : mahebourg found! Appending data\n",
      "City Number 134 : albanel found! Appending data\n",
      "City Number 135 : pucallpa found! Appending data\n",
      "City Number 136 : savonlinna found! Appending data\n",
      "City Number 137 : ratnagiri found! Appending data\n",
      "City Number 138 : leningradskiy found! Appending data\n",
      "City Number 139 : hambantota found! Appending data\n",
      "City Number 140 : saint anthony found! Appending data\n",
      "City Number 141 : torbay found! Appending data\n",
      "City Number 142 : hay river found! Appending data\n",
      "City Number 143 : khilok found! Appending data\n",
      "City Number 144 : tenango found! Appending data\n",
      "City Number 145 : sitka found! Appending data\n",
      "City Number 146 : dongsheng found! Appending data\n",
      "City Number 147 : najran found! Appending data\n",
      "City Number 148 : shabqadar found! Appending data\n",
      "City Number 149 : touros found! Appending data\n",
      "City Number 150 : souillac found! Appending data\n",
      "City Number 151 : san jeronimo found! Appending data\n",
      "City Number 152 : lavrentiya found! Appending data\n",
      "City Number 153 : ferrara found! Appending data\n",
      "City Number 154 : goryachegorsk found! Appending data\n",
      "City Number 155 : sioux lookout found! Appending data\n",
      "City not found\n",
      "City not found\n",
      "City Number 156 : port moresby found! Appending data\n",
      "City Number 157 : saint george found! Appending data\n",
      "City Number 158 : karsun found! Appending data\n",
      "City Number 159 : clyde river found! Appending data\n",
      "City Number 160 : avarua found! Appending data\n",
      "City Number 161 : college found! Appending data\n",
      "City Number 162 : saint-philippe found! Appending data\n",
      "City Number 163 : vila franca do campo found! Appending data\n",
      "City Number 164 : verkhovazhye found! Appending data\n",
      "City Number 165 : kupino found! Appending data\n"
     ]
    },
    {
     "name": "stdout",
     "output_type": "stream",
     "text": [
      "City Number 166 : monrovia found! Appending data\n",
      "City Number 167 : chuy found! Appending data\n",
      "City Number 168 : majene found! Appending data\n",
      "City Number 169 : ejea de los caballeros found! Appending data\n",
      "City Number 170 : komsomolskiy found! Appending data\n",
      "City Number 171 : hukuntsi found! Appending data\n",
      "City Number 172 : cidreira found! Appending data\n",
      "City Number 173 : muzhi found! Appending data\n",
      "City Number 174 : inongo found! Appending data\n",
      "City Number 175 : darhan found! Appending data\n",
      "City Number 176 : pevek found! Appending data\n",
      "City Number 177 : bonfim found! Appending data\n",
      "City Number 178 : longyearbyen found! Appending data\n",
      "City Number 179 : corralillo found! Appending data\n",
      "City Number 180 : puerto el triunfo found! Appending data\n",
      "City Number 181 : talcahuano found! Appending data\n",
      "City not found\n",
      "City Number 182 : pacific grove found! Appending data\n",
      "City Number 183 : pundaguitan found! Appending data\n",
      "City Number 184 : sychevka found! Appending data\n",
      "City Number 185 : geraldton found! Appending data\n",
      "City Number 186 : vardo found! Appending data\n",
      "City Number 187 : wojkowice found! Appending data\n",
      "City Number 188 : takoradi found! Appending data\n",
      "City Number 189 : san cristobal found! Appending data\n",
      "City Number 190 : hermanus found! Appending data\n",
      "City not found\n",
      "City Number 191 : gamboma found! Appending data\n",
      "City Number 192 : loukhi found! Appending data\n",
      "City Number 193 : norman wells found! Appending data\n",
      "City Number 194 : lazaro cardenas found! Appending data\n",
      "City Number 195 : virginia found! Appending data\n",
      "City Number 196 : capao da canoa found! Appending data\n",
      "City Number 197 : aquiraz found! Appending data\n",
      "City Number 198 : vaini found! Appending data\n",
      "City Number 199 : ponta delgada found! Appending data\n",
      "City Number 200 : quatre cocos found! Appending data\n",
      "City Number 201 : qui nhon found! Appending data\n",
      "City not found\n",
      "City Number 202 : talnakh found! Appending data\n",
      "City Number 203 : dauphin found! Appending data\n",
      "City Number 204 : yebaishou found! Appending data\n",
      "City Number 205 : soe found! Appending data\n",
      "City not found\n",
      "City Number 206 : san javier found! Appending data\n",
      "City not found\n",
      "City Number 207 : lompoc found! Appending data\n",
      "City Number 208 : lima found! Appending data\n",
      "City Number 209 : dabakala found! Appending data\n",
      "City not found\n",
      "City Number 210 : codrington found! Appending data\n",
      "City Number 211 : khatanga found! Appending data\n",
      "City Number 212 : berlevag found! Appending data\n",
      "City Number 213 : tuktoyaktuk found! Appending data\n",
      "City Number 214 : walvis bay found! Appending data\n",
      "City Number 215 : bandarbeyla found! Appending data\n",
      "City Number 216 : calatayud found! Appending data\n",
      "City Number 217 : beira found! Appending data\n",
      "City Number 218 : jiexiu found! Appending data\n",
      "City Number 219 : port elizabeth found! Appending data\n",
      "City Number 220 : ilulissat found! Appending data\n",
      "City Number 221 : dingle found! Appending data\n",
      "City Number 222 : sept-iles found! Appending data\n",
      "City Number 223 : hiji found! Appending data\n",
      "City Number 224 : aksu found! Appending data\n",
      "City Number 225 : falkenberg found! Appending data\n",
      "City Number 226 : noyabrsk found! Appending data\n",
      "City not found\n",
      "City Number 227 : marzuq found! Appending data\n",
      "City Number 228 : cessnock found! Appending data\n",
      "City Number 229 : ayer tawar found! Appending data\n",
      "City Number 230 : cayenne found! Appending data\n",
      "City Number 231 : narrabri found! Appending data\n",
      "City Number 232 : nivala found! Appending data\n",
      "City Number 233 : isiro found! Appending data\n",
      "City Number 234 : visby found! Appending data\n",
      "City Number 235 : ancud found! Appending data\n",
      "City Number 236 : bantogon found! Appending data\n",
      "City Number 237 : amapa found! Appending data\n",
      "City Number 238 : nantucket found! Appending data\n",
      "City Number 239 : dhidhdhoo found! Appending data\n",
      "City Number 240 : vestmannaeyjar found! Appending data\n",
      "City Number 241 : thompson found! Appending data\n",
      "City Number 242 : myitkyina found! Appending data\n",
      "City Number 243 : russellville found! Appending data\n",
      "City Number 244 : middelburg found! Appending data\n",
      "City Number 245 : broome found! Appending data\n",
      "City Number 246 : palauig found! Appending data\n",
      "City Number 247 : port-gentil found! Appending data\n",
      "City not found\n",
      "City Number 248 : cherskiy found! Appending data\n",
      "City Number 249 : palma found! Appending data\n",
      "City Number 250 : doka found! Appending data\n",
      "City Number 251 : nikolskoye found! Appending data\n",
      "City Number 252 : guerrero negro found! Appending data\n",
      "City Number 253 : nola found! Appending data\n",
      "City Number 254 : sorland found! Appending data\n",
      "City not found\n",
      "City Number 255 : sisophon found! Appending data\n",
      "City Number 256 : uyskoye found! Appending data\n",
      "City Number 257 : pangnirtung found! Appending data\n",
      "City Number 258 : grindavik found! Appending data\n",
      "City not found\n",
      "City Number 259 : gull lake found! Appending data\n",
      "City Number 260 : lufilufi found! Appending data\n",
      "City Number 261 : binzhou found! Appending data\n",
      "City Number 262 : narsaq found! Appending data\n",
      "City Number 263 : obihiro found! Appending data\n",
      "City Number 264 : yulara found! Appending data\n",
      "City Number 265 : beringovskiy found! Appending data\n",
      "City Number 266 : kilindoni found! Appending data\n",
      "City Number 267 : namibe found! Appending data\n",
      "City Number 268 : chulym found! Appending data\n",
      "City Number 269 : torrington found! Appending data\n",
      "City Number 270 : ghanzi found! Appending data\n",
      "City Number 271 : chirongui found! Appending data\n",
      "City Number 272 : arraial do cabo found! Appending data\n",
      "City Number 273 : kargil found! Appending data\n",
      "City Number 274 : poum found! Appending data\n",
      "City Number 275 : hays found! Appending data\n",
      "City Number 276 : sterling found! Appending data\n",
      "City Number 277 : yar-sale found! Appending data\n",
      "City Number 278 : pacifica found! Appending data\n",
      "City Number 279 : hasaki found! Appending data\n",
      "City Number 280 : luderitz found! Appending data\n",
      "City Number 281 : hastings found! Appending data\n",
      "City Number 282 : puyang found! Appending data\n",
      "City Number 283 : laguna found! Appending data\n",
      "City Number 284 : severodvinsk found! Appending data\n",
      "City Number 285 : chateauroux found! Appending data\n",
      "City Number 286 : mocuba found! Appending data\n",
      "City Number 287 : kamenka found! Appending data\n",
      "City Number 288 : kudahuvadhoo found! Appending data\n",
      "City Number 289 : mbeya found! Appending data\n",
      "City Number 290 : salalah found! Appending data\n",
      "City Number 291 : khabary found! Appending data\n",
      "City Number 292 : garowe found! Appending data\n",
      "City Number 293 : ketchikan found! Appending data\n",
      "City not found\n",
      "City Number 294 : akdepe found! Appending data\n",
      "City Number 295 : meulaboh found! Appending data\n",
      "City Number 296 : alice springs found! Appending data\n",
      "City not found\n",
      "City Number 297 : moron found! Appending data\n",
      "City Number 298 : muroto found! Appending data\n",
      "City Number 299 : susangerd found! Appending data\n",
      "City Number 300 : aketi found! Appending data\n",
      "City Number 301 : klaksvik found! Appending data\n",
      "City Number 302 : san jose found! Appending data\n",
      "City Number 303 : pontian kecil found! Appending data\n",
      "City Number 304 : xichang found! Appending data\n",
      "City not found\n",
      "City Number 305 : maniitsoq found! Appending data\n",
      "City Number 306 : camacha found! Appending data\n",
      "City Number 307 : carlsbad found! Appending data\n",
      "City Number 308 : atambua found! Appending data\n",
      "City not found\n",
      "City Number 309 : kirovsk found! Appending data\n",
      "City Number 310 : xunchang found! Appending data\n",
      "City Number 311 : sur found! Appending data\n",
      "City Number 312 : nurota found! Appending data\n",
      "City Number 313 : mount isa found! Appending data\n",
      "City Number 314 : haines junction found! Appending data\n",
      "City Number 315 : jalu found! Appending data\n",
      "City Number 316 : dickinson found! Appending data\n",
      "City Number 317 : shenjiamen found! Appending data\n",
      "City Number 318 : ahipara found! Appending data\n",
      "City Number 319 : bilhaur found! Appending data\n",
      "City Number 320 : rajbiraj found! Appending data\n",
      "City Number 321 : karachev found! Appending data\n",
      "City Number 322 : sri aman found! Appending data\n",
      "City Number 323 : beloslav found! Appending data\n",
      "City Number 324 : sisimiut found! Appending data\n",
      "City Number 325 : belmonte found! Appending data\n",
      "City Number 326 : malanville found! Appending data\n",
      "City Number 327 : avera found! Appending data\n",
      "City Number 328 : port-cartier found! Appending data\n"
     ]
    },
    {
     "name": "stdout",
     "output_type": "stream",
     "text": [
      "City Number 329 : goderich found! Appending data\n",
      "City Number 330 : kukshi found! Appending data\n",
      "City Number 331 : paita found! Appending data\n",
      "City Number 332 : mersing found! Appending data\n",
      "City not found\n",
      "City Number 333 : pisco found! Appending data\n",
      "City Number 334 : chapais found! Appending data\n",
      "City Number 335 : oktyabrskiy found! Appending data\n",
      "City Number 336 : caravelas found! Appending data\n",
      "City Number 337 : ixtapa found! Appending data\n",
      "City Number 338 : richards bay found! Appending data\n",
      "City Number 339 : ekibastuz found! Appending data\n",
      "City Number 340 : saint-augustin found! Appending data\n",
      "City Number 341 : senanga found! Appending data\n",
      "City Number 342 : ingleside found! Appending data\n",
      "City not found\n",
      "City Number 343 : chandbali found! Appending data\n",
      "City Number 344 : zarubino found! Appending data\n",
      "City Number 345 : verkhnevilyuysk found! Appending data\n",
      "City Number 346 : hwange found! Appending data\n",
      "City Number 347 : alexandria found! Appending data\n",
      "City Number 348 : san rafael found! Appending data\n",
      "City not found\n",
      "City Number 349 : graaff-reinet found! Appending data\n",
      "City Number 350 : rio gallegos found! Appending data\n",
      "City Number 351 : kysyl-syr found! Appending data\n",
      "City Number 352 : port hawkesbury found! Appending data\n",
      "City Number 353 : artyom found! Appending data\n",
      "City Number 354 : kaka found! Appending data\n",
      "City Number 355 : xining found! Appending data\n",
      "City Number 356 : kholmogory found! Appending data\n",
      "City Number 357 : constitucion found! Appending data\n",
      "City Number 358 : dunmore east found! Appending data\n",
      "City Number 359 : roebourne found! Appending data\n",
      "City Number 360 : fairbanks found! Appending data\n",
      "City Number 361 : januaria found! Appending data\n",
      "City Number 362 : harper found! Appending data\n",
      "City Number 363 : sao filipe found! Appending data\n",
      "City Number 364 : lata found! Appending data\n",
      "City Number 365 : mount darwin found! Appending data\n",
      "City Number 366 : aasiaat found! Appending data\n",
      "City Number 367 : itarema found! Appending data\n",
      "City Number 368 : sabla found! Appending data\n",
      "City Number 369 : paamiut found! Appending data\n",
      "City Number 370 : ozernovskiy found! Appending data\n",
      "City not found\n",
      "City Number 371 : ibaiti found! Appending data\n",
      "City Number 372 : tonekabon found! Appending data\n",
      "City not found\n",
      "City Number 373 : arman found! Appending data\n",
      "City Number 374 : deniliquin found! Appending data\n",
      "City Number 375 : loja found! Appending data\n",
      "City Number 376 : pozo colorado found! Appending data\n",
      "City Number 377 : iqaluit found! Appending data\n",
      "City Number 378 : tabuk found! Appending data\n",
      "City Number 379 : shetpe found! Appending data\n",
      "City Number 380 : kamskiye polyany found! Appending data\n",
      "City Number 381 : margate found! Appending data\n",
      "City Number 382 : valka found! Appending data\n",
      "City Number 383 : kaliningrad found! Appending data\n",
      "City Number 384 : ola found! Appending data\n",
      "City Number 385 : aksarka found! Appending data\n",
      "City Number 386 : acapulco found! Appending data\n",
      "City Number 387 : sao gabriel da cachoeira found! Appending data\n",
      "City Number 388 : taoudenni found! Appending data\n",
      "City Number 389 : claresholm found! Appending data\n",
      "City Number 390 : svetlaya found! Appending data\n",
      "City Number 391 : sambava found! Appending data\n",
      "City Number 392 : veroia found! Appending data\n",
      "City Number 393 : matara found! Appending data\n",
      "City Number 394 : belyy yar found! Appending data\n",
      "City Number 395 : pompeu found! Appending data\n",
      "City Number 396 : alyangula found! Appending data\n",
      "City Number 397 : itupiranga found! Appending data\n",
      "City Number 398 : bay-khaak found! Appending data\n",
      "City Number 399 : kyabe found! Appending data\n",
      "City Number 400 : moranbah found! Appending data\n",
      "City Number 401 : jardim found! Appending data\n",
      "City Number 402 : lasa found! Appending data\n",
      "City Number 403 : uribia found! Appending data\n",
      "City Number 404 : sobolevo found! Appending data\n",
      "City Number 405 : kahramanmaras found! Appending data\n",
      "City Number 406 : port lincoln found! Appending data\n",
      "City Number 407 : progreso found! Appending data\n",
      "City Number 408 : solnechnyy found! Appending data\n",
      "City not found\n",
      "City Number 409 : orbetello found! Appending data\n",
      "City not found\n",
      "City Number 410 : gizo found! Appending data\n",
      "City Number 411 : la ronge found! Appending data\n",
      "City Number 412 : yangambi found! Appending data\n",
      "City Number 413 : melfi found! Appending data\n",
      "City Number 414 : dubovka found! Appending data\n",
      "City Number 415 : oga found! Appending data\n",
      "City Number 416 : kahului found! Appending data\n",
      "City Number 417 : chunoyar found! Appending data\n",
      "City Number 418 : banjarmasin found! Appending data\n",
      "City Number 419 : gweta found! Appending data\n",
      "City Number 420 : tautira found! Appending data\n",
      "City Number 421 : piacabucu found! Appending data\n",
      "City Number 422 : nhamunda found! Appending data\n",
      "City Number 423 : jurmala found! Appending data\n",
      "City Number 424 : timra found! Appending data\n",
      "City Number 425 : quthing found! Appending data\n",
      "City Number 426 : guaranda found! Appending data\n",
      "City Number 427 : coihaique found! Appending data\n",
      "City Number 428 : buraydah found! Appending data\n",
      "City Number 429 : tuatapere found! Appending data\n",
      "City Number 430 : muzaffarabad found! Appending data\n",
      "City Number 431 : los llanos de aridane found! Appending data\n",
      "City Number 432 : correia pinto found! Appending data\n",
      "City Number 433 : praia da vitoria found! Appending data\n",
      "City not found\n",
      "City Number 434 : xuddur found! Appending data\n",
      "City Number 435 : esperantinopolis found! Appending data\n",
      "City Number 436 : lagoa found! Appending data\n",
      "City Number 437 : sao felix do xingu found! Appending data\n",
      "City Number 438 : honiara found! Appending data\n",
      "City Number 439 : makakilo city found! Appending data\n",
      "City Number 440 : kondopoga found! Appending data\n",
      "City Number 441 : kaliua found! Appending data\n",
      "City Number 442 : daru found! Appending data\n",
      "City Number 443 : quelimane found! Appending data\n",
      "City Number 444 : asau found! Appending data\n",
      "City Number 445 : cap malheureux found! Appending data\n",
      "City Number 446 : marquard found! Appending data\n",
      "City Number 447 : tual found! Appending data\n",
      "City not found\n",
      "City Number 448 : nova soure found! Appending data\n",
      "City Number 449 : maldonado found! Appending data\n",
      "City Number 450 : kodinsk found! Appending data\n",
      "City not found\n",
      "City Number 451 : guayaramerin found! Appending data\n",
      "City Number 452 : jishou found! Appending data\n",
      "City Number 453 : banyo found! Appending data\n",
      "City not found\n",
      "City Number 454 : itapirapua found! Appending data\n",
      "City Number 455 : barinitas found! Appending data\n",
      "City Number 456 : caruray found! Appending data\n",
      "City Number 457 : hami found! Appending data\n",
      "City Number 458 : porto novo found! Appending data\n",
      "City Number 459 : voh found! Appending data\n",
      "City Number 460 : roma found! Appending data\n",
      "City Number 461 : adrar found! Appending data\n",
      "City Number 462 : buala found! Appending data\n",
      "City Number 463 : medicine hat found! Appending data\n",
      "City Number 464 : sao geraldo do araguaia found! Appending data\n",
      "City Number 465 : leshukonskoye found! Appending data\n",
      "City Number 466 : hopewell found! Appending data\n",
      "City not found\n",
      "City Number 467 : urumqi found! Appending data\n",
      "City Number 468 : pakxan found! Appending data\n",
      "City Number 469 : sukhumi found! Appending data\n",
      "City not found\n",
      "City Number 470 : morozovsk found! Appending data\n",
      "City Number 471 : yenagoa found! Appending data\n",
      "City Number 472 : marsaxlokk found! Appending data\n",
      "City not found\n",
      "City Number 473 : ouahigouya found! Appending data\n",
      "City Number 474 : mokhsogollokh found! Appending data\n",
      "City Number 475 : dudinka found! Appending data\n",
      "City Number 476 : northam found! Appending data\n",
      "City Number 477 : macon found! Appending data\n",
      "City Number 478 : vanimo found! Appending data\n",
      "City Number 479 : kalangala found! Appending data\n",
      "City Number 480 : freeport found! Appending data\n",
      "City Number 481 : letka found! Appending data\n",
      "City Number 482 : srednekolymsk found! Appending data\n",
      "City Number 483 : tucuma found! Appending data\n",
      "City Number 484 : mandan found! Appending data\n",
      "City Number 485 : maceio found! Appending data\n",
      "City not found\n",
      "City Number 486 : provideniya found! Appending data\n",
      "City Number 487 : saint-francois found! Appending data\n",
      "City Number 488 : jacareacanga found! Appending data\n",
      "City Number 489 : lorengau found! Appending data\n"
     ]
    },
    {
     "name": "stdout",
     "output_type": "stream",
     "text": [
      "City Number 490 : migori found! Appending data\n",
      "City Number 491 : messini found! Appending data\n",
      "City not found\n",
      "City Number 492 : plock found! Appending data\n",
      "City Number 493 : vereshchagino found! Appending data\n",
      "City Number 494 : reforma found! Appending data\n",
      "City Number 495 : great bend found! Appending data\n",
      "City Number 496 : nador found! Appending data\n",
      "City Number 497 : sawtell found! Appending data\n",
      "City Number 498 : yeppoon found! Appending data\n",
      "City Number 499 : novoagansk found! Appending data\n",
      "City Number 500 : olafsvik found! Appending data\n",
      "City Number 501 : les cayes found! Appending data\n",
      "City not found\n",
      "City Number 502 : iwanai found! Appending data\n",
      "City Number 503 : kothapet found! Appending data\n",
      "City not found\n",
      "City Number 504 : rubiataba found! Appending data\n",
      "City Number 505 : makaha found! Appending data\n",
      "City Number 506 : calama found! Appending data\n",
      "City not found\n",
      "City Number 507 : magistralnyy found! Appending data\n",
      "City Number 508 : vanavara found! Appending data\n",
      "City Number 509 : gat found! Appending data\n",
      "City Number 510 : koping found! Appending data\n",
      "City Number 511 : nelson bay found! Appending data\n",
      "City Number 512 : bathsheba found! Appending data\n",
      "City Number 513 : russell found! Appending data\n",
      "City Number 514 : elmira found! Appending data\n",
      "City Number 515 : pecos found! Appending data\n",
      "City Number 516 : san juan found! Appending data\n",
      "City Number 517 : mao found! Appending data\n",
      "City Number 518 : shiyan found! Appending data\n",
      "City not found\n",
      "City Number 519 : cabo san lucas found! Appending data\n",
      "City Number 520 : benghazi found! Appending data\n",
      "City Number 521 : ust-kuyga found! Appending data\n",
      "City Number 522 : glenluce found! Appending data\n",
      "City Number 523 : fresno found! Appending data\n",
      "City Number 524 : juneau found! Appending data\n",
      "City not found\n",
      "City Number 525 : monserrato found! Appending data\n",
      "City Number 526 : rizhao found! Appending data\n",
      "City not found\n",
      "City Number 527 : sechura found! Appending data\n",
      "City Number 528 : balud found! Appending data\n",
      "City Number 529 : cacoal found! Appending data\n",
      "City Number 530 : arroyo found! Appending data\n",
      "City Number 531 : kirtipur found! Appending data\n",
      "City Number 532 : sibolga found! Appending data\n",
      "City Number 533 : aitape found! Appending data\n",
      "City Number 534 : rybnaya sloboda found! Appending data\n",
      "City Number 535 : yangjiang found! Appending data\n",
      "City Number 536 : templin found! Appending data\n",
      "City Number 537 : tuy hoa found! Appending data\n",
      "City Number 538 : nouadhibou found! Appending data\n",
      "City not found\n",
      "City Number 539 : flinders found! Appending data\n",
      "City Number 540 : aykhal found! Appending data\n",
      "City not found\n",
      "City Number 541 : namanga found! Appending data\n",
      "City Number 542 : sorong found! Appending data\n",
      "City Number 543 : lincoln found! Appending data\n",
      "City not found\n",
      "City Number 544 : bundaberg found! Appending data\n",
      "City Number 545 : amli found! Appending data\n",
      "City Number 546 : edinburg found! Appending data\n",
      "City Number 547 : te anau found! Appending data\n",
      "City Number 548 : mokobeng found! Appending data\n"
     ]
    }
   ],
   "source": [
    "# Save config information.\n",
    "url = \"http://api.openweathermap.org/data/2.5/weather?\"\n",
    "units = \"imperial\"\n",
    "\n",
    "# Build partial query URL\n",
    "query_url = f\"{url}appid={api_key}&units={units}&q=\"\n",
    "query_url\n",
    "\n",
    "# set up lists to hold reponse info\n",
    "country = []\n",
    "city_name = []\n",
    "lat = []\n",
    "long = []\n",
    "temperature =[]\n",
    "humidity =[]\n",
    "cloudiness =[]\n",
    "wind_speed =[]\n",
    "\n",
    "count = 0\n",
    "#Loop through the list of cities and perform a request for data on each\n",
    "for city in cities:\n",
    "    try:\n",
    "        response = requests.get(query_url + city).json()\n",
    "        country.append(response['sys']['country'])\n",
    "        city_name.append(response['name'])\n",
    "        lat.append(response['coord']['lat'])\n",
    "        long.append(response['coord']['lon'])\n",
    "        temperature.append(response['main']['temp'])\n",
    "        humidity.append(response['main']['humidity'])\n",
    "        cloudiness.append(response['clouds']['all'])\n",
    "        wind_speed.append(response['wind']['speed'])\n",
    "        count = count + 1\n",
    "        print(f\"City Number {count} : {city} found! Appending data\")\n",
    "    \n",
    "    except:\n",
    "        print(\"City not found\")\n",
    "        pass"
   ]
  },
  {
   "cell_type": "markdown",
   "metadata": {},
   "source": [
    "### Convert Raw Data to DataFrame\n",
    "* Export the city data into a .csv.\n",
    "* Display the DataFrame"
   ]
  },
  {
   "cell_type": "code",
   "execution_count": 5,
   "metadata": {},
   "outputs": [
    {
     "data": {
      "text/html": [
       "<div>\n",
       "<style scoped>\n",
       "    .dataframe tbody tr th:only-of-type {\n",
       "        vertical-align: middle;\n",
       "    }\n",
       "\n",
       "    .dataframe tbody tr th {\n",
       "        vertical-align: top;\n",
       "    }\n",
       "\n",
       "    .dataframe thead th {\n",
       "        text-align: right;\n",
       "    }\n",
       "</style>\n",
       "<table border=\"1\" class=\"dataframe\">\n",
       "  <thead>\n",
       "    <tr style=\"text-align: right;\">\n",
       "      <th></th>\n",
       "      <th>Country</th>\n",
       "      <th>City</th>\n",
       "      <th>Longitude</th>\n",
       "      <th>Latitude</th>\n",
       "      <th>Temperature(F)</th>\n",
       "      <th>Humidity(%)</th>\n",
       "      <th>Cloudiness(%)</th>\n",
       "      <th>Wind_Speed(mph)</th>\n",
       "    </tr>\n",
       "  </thead>\n",
       "  <tbody>\n",
       "    <tr>\n",
       "      <th>0</th>\n",
       "      <td>CD</td>\n",
       "      <td>Kikwit</td>\n",
       "      <td>18.82</td>\n",
       "      <td>-5.04</td>\n",
       "      <td>72.70</td>\n",
       "      <td>88</td>\n",
       "      <td>85</td>\n",
       "      <td>1.25</td>\n",
       "    </tr>\n",
       "    <tr>\n",
       "      <th>1</th>\n",
       "      <td>RU</td>\n",
       "      <td>Tarko-Sale</td>\n",
       "      <td>77.78</td>\n",
       "      <td>64.92</td>\n",
       "      <td>39.99</td>\n",
       "      <td>86</td>\n",
       "      <td>98</td>\n",
       "      <td>7.76</td>\n",
       "    </tr>\n",
       "    <tr>\n",
       "      <th>2</th>\n",
       "      <td>AR</td>\n",
       "      <td>Mar del Plata</td>\n",
       "      <td>-57.56</td>\n",
       "      <td>-38.00</td>\n",
       "      <td>64.40</td>\n",
       "      <td>59</td>\n",
       "      <td>50</td>\n",
       "      <td>8.05</td>\n",
       "    </tr>\n",
       "    <tr>\n",
       "      <th>3</th>\n",
       "      <td>PH</td>\n",
       "      <td>Basco</td>\n",
       "      <td>121.97</td>\n",
       "      <td>20.45</td>\n",
       "      <td>81.28</td>\n",
       "      <td>82</td>\n",
       "      <td>92</td>\n",
       "      <td>13.78</td>\n",
       "    </tr>\n",
       "    <tr>\n",
       "      <th>4</th>\n",
       "      <td>US</td>\n",
       "      <td>Charleston</td>\n",
       "      <td>-79.93</td>\n",
       "      <td>32.78</td>\n",
       "      <td>64.40</td>\n",
       "      <td>100</td>\n",
       "      <td>90</td>\n",
       "      <td>4.70</td>\n",
       "    </tr>\n",
       "  </tbody>\n",
       "</table>\n",
       "</div>"
      ],
      "text/plain": [
       "  Country           City  Longitude  Latitude  Temperature(F)  Humidity(%)  \\\n",
       "0      CD         Kikwit      18.82     -5.04           72.70           88   \n",
       "1      RU     Tarko-Sale      77.78     64.92           39.99           86   \n",
       "2      AR  Mar del Plata     -57.56    -38.00           64.40           59   \n",
       "3      PH          Basco     121.97     20.45           81.28           82   \n",
       "4      US     Charleston     -79.93     32.78           64.40          100   \n",
       "\n",
       "   Cloudiness(%)  Wind_Speed(mph)  \n",
       "0             85             1.25  \n",
       "1             98             7.76  \n",
       "2             50             8.05  \n",
       "3             92            13.78  \n",
       "4             90             4.70  "
      ]
     },
     "execution_count": 5,
     "metadata": {},
     "output_type": "execute_result"
    }
   ],
   "source": [
    "#Create Dataframe\n",
    "city_data = pd.DataFrame({\n",
    "    'Country' : country,\n",
    "    'City': city_name,\n",
    "    'Longitude' : long,\n",
    "    'Latitude': lat,\n",
    "    'Temperature(F)': temperature, \n",
    "    'Humidity(%)': humidity,\n",
    "    'Cloudiness(%)': cloudiness,\n",
    "    'Wind_Speed(mph)': wind_speed\n",
    "})\n",
    "\n",
    "city_data.to_csv('output_data/export_city_df.csv', index=False)\n",
    "city_data.head(5)"
   ]
  },
  {
   "cell_type": "code",
   "execution_count": 7,
   "metadata": {},
   "outputs": [
    {
     "data": {
      "text/html": [
       "<div>\n",
       "<style scoped>\n",
       "    .dataframe tbody tr th:only-of-type {\n",
       "        vertical-align: middle;\n",
       "    }\n",
       "\n",
       "    .dataframe tbody tr th {\n",
       "        vertical-align: top;\n",
       "    }\n",
       "\n",
       "    .dataframe thead th {\n",
       "        text-align: right;\n",
       "    }\n",
       "</style>\n",
       "<table border=\"1\" class=\"dataframe\">\n",
       "  <thead>\n",
       "    <tr style=\"text-align: right;\">\n",
       "      <th></th>\n",
       "      <th>Longitude</th>\n",
       "      <th>Latitude</th>\n",
       "      <th>Temperature(F)</th>\n",
       "      <th>Humidity(%)</th>\n",
       "      <th>Cloudiness(%)</th>\n",
       "      <th>Wind_Speed(mph)</th>\n",
       "    </tr>\n",
       "  </thead>\n",
       "  <tbody>\n",
       "    <tr>\n",
       "      <th>count</th>\n",
       "      <td>548.000000</td>\n",
       "      <td>548.000000</td>\n",
       "      <td>548.000000</td>\n",
       "      <td>548.000000</td>\n",
       "      <td>548.000000</td>\n",
       "      <td>548.000000</td>\n",
       "    </tr>\n",
       "    <tr>\n",
       "      <th>mean</th>\n",
       "      <td>15.820036</td>\n",
       "      <td>20.088650</td>\n",
       "      <td>63.137536</td>\n",
       "      <td>73.091241</td>\n",
       "      <td>51.781022</td>\n",
       "      <td>7.728467</td>\n",
       "    </tr>\n",
       "    <tr>\n",
       "      <th>std</th>\n",
       "      <td>89.061066</td>\n",
       "      <td>33.149744</td>\n",
       "      <td>16.175302</td>\n",
       "      <td>20.171270</td>\n",
       "      <td>37.936147</td>\n",
       "      <td>5.374048</td>\n",
       "    </tr>\n",
       "    <tr>\n",
       "      <th>min</th>\n",
       "      <td>-175.200000</td>\n",
       "      <td>-54.800000</td>\n",
       "      <td>14.290000</td>\n",
       "      <td>7.000000</td>\n",
       "      <td>0.000000</td>\n",
       "      <td>0.090000</td>\n",
       "    </tr>\n",
       "    <tr>\n",
       "      <th>25%</th>\n",
       "      <td>-60.367500</td>\n",
       "      <td>-8.237500</td>\n",
       "      <td>51.302500</td>\n",
       "      <td>64.000000</td>\n",
       "      <td>13.000000</td>\n",
       "      <td>3.485000</td>\n",
       "    </tr>\n",
       "    <tr>\n",
       "      <th>50%</th>\n",
       "      <td>21.765000</td>\n",
       "      <td>25.130000</td>\n",
       "      <td>65.120000</td>\n",
       "      <td>78.000000</td>\n",
       "      <td>62.500000</td>\n",
       "      <td>6.630000</td>\n",
       "    </tr>\n",
       "    <tr>\n",
       "      <th>75%</th>\n",
       "      <td>91.730000</td>\n",
       "      <td>48.422500</td>\n",
       "      <td>77.000000</td>\n",
       "      <td>88.000000</td>\n",
       "      <td>90.000000</td>\n",
       "      <td>10.290000</td>\n",
       "    </tr>\n",
       "    <tr>\n",
       "      <th>max</th>\n",
       "      <td>179.320000</td>\n",
       "      <td>78.220000</td>\n",
       "      <td>99.280000</td>\n",
       "      <td>100.000000</td>\n",
       "      <td>100.000000</td>\n",
       "      <td>31.090000</td>\n",
       "    </tr>\n",
       "  </tbody>\n",
       "</table>\n",
       "</div>"
      ],
      "text/plain": [
       "        Longitude    Latitude  Temperature(F)  Humidity(%)  Cloudiness(%)  \\\n",
       "count  548.000000  548.000000      548.000000   548.000000     548.000000   \n",
       "mean    15.820036   20.088650       63.137536    73.091241      51.781022   \n",
       "std     89.061066   33.149744       16.175302    20.171270      37.936147   \n",
       "min   -175.200000  -54.800000       14.290000     7.000000       0.000000   \n",
       "25%    -60.367500   -8.237500       51.302500    64.000000      13.000000   \n",
       "50%     21.765000   25.130000       65.120000    78.000000      62.500000   \n",
       "75%     91.730000   48.422500       77.000000    88.000000      90.000000   \n",
       "max    179.320000   78.220000       99.280000   100.000000     100.000000   \n",
       "\n",
       "       Wind_Speed(mph)  \n",
       "count       548.000000  \n",
       "mean          7.728467  \n",
       "std           5.374048  \n",
       "min           0.090000  \n",
       "25%           3.485000  \n",
       "50%           6.630000  \n",
       "75%          10.290000  \n",
       "max          31.090000  "
      ]
     },
     "execution_count": 7,
     "metadata": {},
     "output_type": "execute_result"
    }
   ],
   "source": [
    "city_data.describe()"
   ]
  },
  {
   "cell_type": "markdown",
   "metadata": {},
   "source": [
    "## Inspect the data and remove the cities where the humidity > 100%.\n",
    "----\n",
    "Skip this step if there are no cities that have humidity > 100%. "
   ]
  },
  {
   "cell_type": "code",
   "execution_count": 8,
   "metadata": {},
   "outputs": [
    {
     "data": {
      "text/html": [
       "<div>\n",
       "<style scoped>\n",
       "    .dataframe tbody tr th:only-of-type {\n",
       "        vertical-align: middle;\n",
       "    }\n",
       "\n",
       "    .dataframe tbody tr th {\n",
       "        vertical-align: top;\n",
       "    }\n",
       "\n",
       "    .dataframe thead th {\n",
       "        text-align: right;\n",
       "    }\n",
       "</style>\n",
       "<table border=\"1\" class=\"dataframe\">\n",
       "  <thead>\n",
       "    <tr style=\"text-align: right;\">\n",
       "      <th></th>\n",
       "      <th>Country</th>\n",
       "      <th>City</th>\n",
       "      <th>Longitude</th>\n",
       "      <th>Latitude</th>\n",
       "      <th>Temperature(F)</th>\n",
       "      <th>Humidity(%)</th>\n",
       "      <th>Cloudiness(%)</th>\n",
       "      <th>Wind_Speed(mph)</th>\n",
       "    </tr>\n",
       "  </thead>\n",
       "  <tbody>\n",
       "  </tbody>\n",
       "</table>\n",
       "</div>"
      ],
      "text/plain": [
       "Empty DataFrame\n",
       "Columns: [Country, City, Longitude, Latitude, Temperature(F), Humidity(%), Cloudiness(%), Wind_Speed(mph)]\n",
       "Index: []"
      ]
     },
     "execution_count": 8,
     "metadata": {},
     "output_type": "execute_result"
    }
   ],
   "source": [
    "city_data[city_data[\"Humidity(%)\"] > 100]"
   ]
  },
  {
   "cell_type": "markdown",
   "metadata": {},
   "source": [
    "## Plotting the Data\n",
    "* Use proper labeling of the plots using plot titles (including date of analysis) and axes labels.\n",
    "* Save the plotted figures as .pngs."
   ]
  },
  {
   "cell_type": "markdown",
   "metadata": {},
   "source": [
    "## Latitude vs. Temperature Plot"
   ]
  },
  {
   "cell_type": "code",
   "execution_count": 39,
   "metadata": {
    "scrolled": true
   },
   "outputs": [
    {
     "data": {
      "image/png": "[encoded data removed]",
      "text/plain": [
       "<Figure size 432x288 with 1 Axes>"
      ]
     },
     "metadata": {
      "needs_background": "light"
     },
     "output_type": "display_data"
    },
    {
     "data": {
      "text/plain": [
       "<Figure size 432x288 with 0 Axes>"
      ]
     },
     "metadata": {},
     "output_type": "display_data"
    }
   ],
   "source": [
    "# Temperature (F) vs. Latitude scatter plot\n",
    "plt.scatter(city_data[\"Latitude\"], city_data[\"Temperature(F)\"], marker=\"o\")\n",
    "\n",
    "#Label plot\n",
    "plt.title(\"Temperature (F) vs. Latitude\")\n",
    "plt.ylabel(\"Temperature (F)\")\n",
    "plt.xlabel(\"Latitude\")\n",
    "plt.grid(True)\n",
    "\n",
    "plt.show()\n",
    "plt.savefig('output_data/Fig1.png')\n",
    "#Scatter plot analyses the relationship between Temperature and Latitude "
   ]
  },
  {
   "cell_type": "markdown",
   "metadata": {},
   "source": [
    "## Latitude vs. Humidity Plot"
   ]
  },
  {
   "cell_type": "code",
   "execution_count": 40,
   "metadata": {},
   "outputs": [
    {
     "data": {
      "image/png": "[encoded data removed]",
      "text/plain": [
       "<Figure size 432x288 with 1 Axes>"
      ]
     },
     "metadata": {
      "needs_background": "light"
     },
     "output_type": "display_data"
    },
    {
     "data": {
      "text/plain": [
       "<Figure size 432x288 with 0 Axes>"
      ]
     },
     "metadata": {},
     "output_type": "display_data"
    }
   ],
   "source": [
    "# Humidity (%) vs. Latitude scatter plot\n",
    "plt.scatter(city_data[\"Latitude\"], city_data[\"Humidity(%)\"], marker=\"o\")\n",
    "\n",
    "#Label plot\n",
    "plt.title(\"Temperature (F) vs. Humidity(%)\")\n",
    "plt.ylabel(\"Humidity(%)\")\n",
    "plt.xlabel(\"Latitude\")\n",
    "plt.grid(True)\n",
    "\n",
    "plt.show()\n",
    "plt.savefig('output_data/Fig2.png')\n",
    "#Scatter plot analyses the relationship between Humidity and Latitude "
   ]
  },
  {
   "cell_type": "markdown",
   "metadata": {},
   "source": [
    "## Latitude vs. Cloudiness Plot"
   ]
  },
  {
   "cell_type": "code",
   "execution_count": 41,
   "metadata": {},
   "outputs": [
    {
     "data": {
      "image/png": "[encoded data removed]",
      "text/plain": [
       "<Figure size 432x288 with 1 Axes>"
      ]
     },
     "metadata": {
      "needs_background": "light"
     },
     "output_type": "display_data"
    },
    {
     "data": {
      "text/plain": [
       "<Figure size 432x288 with 0 Axes>"
      ]
     },
     "metadata": {},
     "output_type": "display_data"
    }
   ],
   "source": [
    "# Cloudiness (%)  vs. Latitude scatter plot\n",
    "plt.scatter(city_data[\"Latitude\"], city_data[\"Cloudiness(%)\"], marker=\"o\")\n",
    "\n",
    "#Label plot\n",
    "plt.title(\"Temperature (F) vs. Cloudiness (%) \")\n",
    "plt.ylabel(\"Cloudiness (%)\")\n",
    "plt.xlabel(\"Latitude\")\n",
    "plt.grid(True)\n",
    "\n",
    "plt.show()\n",
    "plt.savefig('output_data/Fig3.png')\n",
    "#Scatter plot analyses the relationship between Cloudiness and Latitude "
   ]
  },
  {
   "cell_type": "markdown",
   "metadata": {},
   "source": [
    "## Latitude vs. Wind Speed Plot"
   ]
  },
  {
   "cell_type": "code",
   "execution_count": 42,
   "metadata": {},
   "outputs": [
    {
     "data": {
      "image/png": "[encoded data removed]",
      "text/plain": [
       "<Figure size 432x288 with 1 Axes>"
      ]
     },
     "metadata": {
      "needs_background": "light"
     },
     "output_type": "display_data"
    },
    {
     "data": {
      "text/plain": [
       "<Figure size 432x288 with 0 Axes>"
      ]
     },
     "metadata": {},
     "output_type": "display_data"
    }
   ],
   "source": [
    "# Wind Speed (mph)  vs. Latitude scatter plot\n",
    "plt.scatter(city_data[\"Latitude\"], city_data[\"Wind_Speed(mph)\"], marker=\"o\")\n",
    "\n",
    "#Label plot\n",
    "plt.title(\"Temperature (F) vs. Wind Speed (mph) \")\n",
    "plt.ylabel(\"Wind Speed (mph)\")\n",
    "plt.xlabel(\"Latitude\")\n",
    "plt.grid(True)\n",
    "\n",
    "plt.show()\n",
    "plt.savefig('output_data/Fig4.png')\n",
    "#Scatter plot analyses the relationship between Wind Speed and Latitude "
   ]
  },
  {
   "cell_type": "markdown",
   "metadata": {},
   "source": [
    "## Linear Regression"
   ]
  },
  {
   "cell_type": "code",
   "execution_count": 13,
   "metadata": {},
   "outputs": [
    {
     "data": {
      "text/html": [
       "<div>\n",
       "<style scoped>\n",
       "    .dataframe tbody tr th:only-of-type {\n",
       "        vertical-align: middle;\n",
       "    }\n",
       "\n",
       "    .dataframe tbody tr th {\n",
       "        vertical-align: top;\n",
       "    }\n",
       "\n",
       "    .dataframe thead th {\n",
       "        text-align: right;\n",
       "    }\n",
       "</style>\n",
       "<table border=\"1\" class=\"dataframe\">\n",
       "  <thead>\n",
       "    <tr style=\"text-align: right;\">\n",
       "      <th></th>\n",
       "      <th>Country</th>\n",
       "      <th>City</th>\n",
       "      <th>Longitude</th>\n",
       "      <th>Latitude</th>\n",
       "      <th>Temperature(F)</th>\n",
       "      <th>Humidity(%)</th>\n",
       "      <th>Cloudiness(%)</th>\n",
       "      <th>Wind_Speed(mph)</th>\n",
       "    </tr>\n",
       "  </thead>\n",
       "  <tbody>\n",
       "    <tr>\n",
       "      <th>0</th>\n",
       "      <td>CD</td>\n",
       "      <td>Kikwit</td>\n",
       "      <td>18.82</td>\n",
       "      <td>-5.04</td>\n",
       "      <td>72.70</td>\n",
       "      <td>88</td>\n",
       "      <td>85</td>\n",
       "      <td>1.25</td>\n",
       "    </tr>\n",
       "    <tr>\n",
       "      <th>1</th>\n",
       "      <td>AR</td>\n",
       "      <td>Mar del Plata</td>\n",
       "      <td>-57.56</td>\n",
       "      <td>-38.00</td>\n",
       "      <td>64.40</td>\n",
       "      <td>59</td>\n",
       "      <td>50</td>\n",
       "      <td>8.05</td>\n",
       "    </tr>\n",
       "    <tr>\n",
       "      <th>2</th>\n",
       "      <td>AU</td>\n",
       "      <td>Carnarvon</td>\n",
       "      <td>113.63</td>\n",
       "      <td>-24.87</td>\n",
       "      <td>62.60</td>\n",
       "      <td>72</td>\n",
       "      <td>0</td>\n",
       "      <td>16.11</td>\n",
       "    </tr>\n",
       "    <tr>\n",
       "      <th>3</th>\n",
       "      <td>ID</td>\n",
       "      <td>Bengkulu</td>\n",
       "      <td>102.27</td>\n",
       "      <td>-3.80</td>\n",
       "      <td>76.23</td>\n",
       "      <td>83</td>\n",
       "      <td>94</td>\n",
       "      <td>6.58</td>\n",
       "    </tr>\n",
       "    <tr>\n",
       "      <th>4</th>\n",
       "      <td>CL</td>\n",
       "      <td>Punta Arenas</td>\n",
       "      <td>-70.92</td>\n",
       "      <td>-53.15</td>\n",
       "      <td>33.40</td>\n",
       "      <td>82</td>\n",
       "      <td>75</td>\n",
       "      <td>23.04</td>\n",
       "    </tr>\n",
       "  </tbody>\n",
       "</table>\n",
       "</div>"
      ],
      "text/plain": [
       "  Country           City  Longitude  Latitude  Temperature(F)  Humidity(%)  \\\n",
       "0      CD         Kikwit      18.82     -5.04           72.70           88   \n",
       "1      AR  Mar del Plata     -57.56    -38.00           64.40           59   \n",
       "2      AU      Carnarvon     113.63    -24.87           62.60           72   \n",
       "3      ID       Bengkulu     102.27     -3.80           76.23           83   \n",
       "4      CL   Punta Arenas     -70.92    -53.15           33.40           82   \n",
       "\n",
       "   Cloudiness(%)  Wind_Speed(mph)  \n",
       "0             85             1.25  \n",
       "1             50             8.05  \n",
       "2              0            16.11  \n",
       "3             94             6.58  \n",
       "4             75            23.04  "
      ]
     },
     "execution_count": 13,
     "metadata": {},
     "output_type": "execute_result"
    }
   ],
   "source": [
    "#Create Nothern and Southern Hemisphere Dataframes\n",
    "north_city_data = city_data[city_data[\"Latitude\"]>=0].reset_index(drop = True)\n",
    "north_city_data.to_csv('export_northcity_df.csv', index=False)\n",
    "\n",
    "south_city_data = city_data[city_data[\"Latitude\"]<0].reset_index(drop = True)\n",
    "south_city_data.to_csv('export_southcity_df.csv', index=False)\n",
    "\n",
    "south_city_data.head()"
   ]
  },
  {
   "cell_type": "code",
   "execution_count": 43,
   "metadata": {},
   "outputs": [],
   "source": [
    "#Create function to run regression lines\n",
    "\n",
    "def regress(x,y):\n",
    "    x_label = x.columns[0]\n",
    "    x = x[x_label]\n",
    "    \n",
    "    y_label = y.columns[0]\n",
    "    y = y[y_label]\n",
    "    #Regression Line\n",
    "    (slope, intercept, rvalue, pvalue, stderr) = stats.linregress(x, y)\n",
    "\n",
    "    # Get regression values\n",
    "    regress_values = x * slope + intercept\n",
    "\n",
    "    # Create line equation string\n",
    "    line_eq = \"y = \" + str(round(slope,2)) + \"x +\" + str(round(intercept,2))\n",
    "    \n",
    "    #Label Axis\n",
    "    plt.xlabel(x_label)\n",
    "    plt.ylabel(y_label)\n",
    "    plt.annotate(line_eq, ((max(x)/1.6), (max(y)/1.5)),fontsize=15,color=\"red\")\n",
    "\n",
    "    # Create Plot\n",
    "    plt.scatter(x, y)\n",
    "    plt.plot(x,regress_values,\"r-\")\n",
    "\n",
    "    # Print r value\n",
    "    print(f\"The r-value is: {rvalue}\")\n",
    "    print(f\"The r-value squared is: {rvalue*rvalue}\")\n",
    "\n",
    "    # Show plot\n",
    "    plt.show()\n",
    "    \n",
    "    return;"
   ]
  },
  {
   "cell_type": "markdown",
   "metadata": {},
   "source": [
    "####  Northern Hemisphere - Max Temp vs. Latitude Linear Regression"
   ]
  },
  {
   "cell_type": "code",
   "execution_count": 44,
   "metadata": {},
   "outputs": [
    {
     "name": "stdout",
     "output_type": "stream",
     "text": [
      "The r-value is: -0.8429924107547171\n",
      "The r-value squared is: 0.7106362045900496\n"
     ]
    },
    {
     "data": {
      "image/png": "[encoded data removed]",
      "text/plain": [
       "<Figure size 432x288 with 1 Axes>"
      ]
     },
     "metadata": {
      "needs_background": "light"
     },
     "output_type": "display_data"
    }
   ],
   "source": [
    "regress(north_city_data[[\"Latitude\"]],north_city_data[[\"Temperature(F)\"]])"
   ]
  },
  {
   "cell_type": "markdown",
   "metadata": {},
   "source": [
    "####  Southern Hemisphere - Max Temp vs. Latitude Linear Regression"
   ]
  },
  {
   "cell_type": "code",
   "execution_count": 45,
   "metadata": {},
   "outputs": [
    {
     "name": "stdout",
     "output_type": "stream",
     "text": [
      "The r-value is: 0.7168015065996067\n",
      "The r-value squared is: 0.513804399863466\n"
     ]
    },
    {
     "data": {
      "image/png": "[encoded data removed]",
      "text/plain": [
       "<Figure size 432x288 with 1 Axes>"
      ]
     },
     "metadata": {
      "needs_background": "light"
     },
     "output_type": "display_data"
    }
   ],
   "source": [
    "regress(south_city_data[[\"Latitude\"]],south_city_data[[\"Temperature(F)\"]])\n",
    "\n",
    "#The r-value for both demonstrates that there is a strong correlation between latitude and temperature.\n",
    "#The correlation is stronger in the Northern Hemisphere than the Southern "
   ]
  },
  {
   "cell_type": "markdown",
   "metadata": {},
   "source": [
    "####  Northern Hemisphere - Humidity (%) vs. Latitude Linear Regression"
   ]
  },
  {
   "cell_type": "code",
   "execution_count": 46,
   "metadata": {},
   "outputs": [
    {
     "name": "stdout",
     "output_type": "stream",
     "text": [
      "The r-value is: 0.10811068774217297\n",
      "The r-value squared is: 0.011687920804085629\n"
     ]
    },
    {
     "data": {
      "image/png": "[encoded data removed]",
      "text/plain": [
       "<Figure size 432x288 with 1 Axes>"
      ]
     },
     "metadata": {
      "needs_background": "light"
     },
     "output_type": "display_data"
    }
   ],
   "source": [
    "regress(north_city_data[[\"Latitude\"]],north_city_data[[\"Humidity(%)\"]])"
   ]
  },
  {
   "cell_type": "markdown",
   "metadata": {},
   "source": [
    "####  Southern Hemisphere - Humidity (%) vs. Latitude Linear Regression"
   ]
  },
  {
   "cell_type": "code",
   "execution_count": 47,
   "metadata": {},
   "outputs": [
    {
     "name": "stdout",
     "output_type": "stream",
     "text": [
      "The r-value is: 0.030792405495152365\n",
      "The r-value squared is: 0.0009481722361778896\n"
     ]
    },
    {
     "data": {
      "image/png": "[encoded data removed]",
      "text/plain": [
       "<Figure size 432x288 with 1 Axes>"
      ]
     },
     "metadata": {
      "needs_background": "light"
     },
     "output_type": "display_data"
    }
   ],
   "source": [
    "regress(south_city_data[[\"Latitude\"]],south_city_data[[\"Humidity(%)\"]])\n",
    "\n",
    "#The r-value for both demonstrates that there is a very weak correlation between latitude and humidity.\n",
    "#The correlation is stronger in the Northern Hemisphere than the Southern "
   ]
  },
  {
   "cell_type": "markdown",
   "metadata": {},
   "source": [
    "####  Northern Hemisphere - Cloudiness (%) vs. Latitude Linear Regression"
   ]
  },
  {
   "cell_type": "code",
   "execution_count": 48,
   "metadata": {},
   "outputs": [
    {
     "name": "stdout",
     "output_type": "stream",
     "text": [
      "The r-value is: 0.11576272051320251\n",
      "The r-value squared is: 0.013401007460617837\n"
     ]
    },
    {
     "data": {
      "image/png": "[encoded data removed]",
      "text/plain": [
       "<Figure size 432x288 with 1 Axes>"
      ]
     },
     "metadata": {
      "needs_background": "light"
     },
     "output_type": "display_data"
    }
   ],
   "source": [
    "regress(north_city_data[[\"Latitude\"]],north_city_data[[\"Cloudiness(%)\"]])"
   ]
  },
  {
   "cell_type": "markdown",
   "metadata": {},
   "source": [
    "####  Southern Hemisphere - Cloudiness (%) vs. Latitude Linear Regression"
   ]
  },
  {
   "cell_type": "code",
   "execution_count": 49,
   "metadata": {},
   "outputs": [
    {
     "name": "stdout",
     "output_type": "stream",
     "text": [
      "The r-value is: 0.05977126277638638\n",
      "The r-value squared is: 0.003572603853883832\n"
     ]
    },
    {
     "data": {
      "image/png": "[encoded data removed]",
      "text/plain": [
       "<Figure size 432x288 with 1 Axes>"
      ]
     },
     "metadata": {
      "needs_background": "light"
     },
     "output_type": "display_data"
    }
   ],
   "source": [
    "regress(south_city_data[[\"Latitude\"]],south_city_data[[\"Cloudiness(%)\"]])\n",
    "#The r-value for both demonstrates that there is a very weak correlation between latitude and cloudiness.\n",
    "#The correlation is stronger in the Northern Hemisphere than the Southern "
   ]
  },
  {
   "cell_type": "markdown",
   "metadata": {},
   "source": [
    "####  Northern Hemisphere - Wind Speed (mph) vs. Latitude Linear Regression"
   ]
  },
  {
   "cell_type": "code",
   "execution_count": 50,
   "metadata": {},
   "outputs": [
    {
     "name": "stdout",
     "output_type": "stream",
     "text": [
      "The r-value is: 0.06265111822914027\n",
      "The r-value squared is: 0.003925162615361712\n"
     ]
    },
    {
     "data": {
      "image/png": "[encoded data removed]",
      "text/plain": [
       "<Figure size 432x288 with 1 Axes>"
      ]
     },
     "metadata": {
      "needs_background": "light"
     },
     "output_type": "display_data"
    }
   ],
   "source": [
    "regress(north_city_data[[\"Latitude\"]],north_city_data[[\"Wind_Speed(mph)\"]])"
   ]
  },
  {
   "cell_type": "markdown",
   "metadata": {},
   "source": [
    "####  Southern Hemisphere - Wind Speed (mph) vs. Latitude Linear Regression"
   ]
  },
  {
   "cell_type": "code",
   "execution_count": 51,
   "metadata": {},
   "outputs": [
    {
     "name": "stdout",
     "output_type": "stream",
     "text": [
      "The r-value is: -0.23302743932694953\n",
      "The r-value squared is: 0.054301787479275145\n"
     ]
    },
    {
     "data": {
      "image/png": "[encoded data removed]",
      "text/plain": [
       "<Figure size 432x288 with 1 Axes>"
      ]
     },
     "metadata": {
      "needs_background": "light"
     },
     "output_type": "display_data"
    }
   ],
   "source": [
    "regress(south_city_data[[\"Latitude\"]],south_city_data[[\"Wind_Speed(mph)\"]])\n",
    "\n",
    "#The r-value for both demonstrates that there is a very weak positive correlation in the northern hemisphere \n",
    "# and a very weak negative correlation in the southern hemisphere between latitude and wind speed.\n",
    "#The correlation is stronger in the Southern Hemisphere than the Northern "
   ]
  },
  {
   "cell_type": "code",
   "execution_count": null,
   "metadata": {},
   "outputs": [],
   "source": []
  }
 ],
 "metadata": {
  "anaconda-cloud": {},
  "kernel_info": {
   "name": "python3"
  },
  "kernelspec": {
   "display_name": "Python 3",
   "language": "python",
   "name": "python3"
  },
  "language_info": {
   "codemirror_mode": {
    "name": "ipython",
    "version": 3
   },
   "file_extension": ".py",
   "mimetype": "text/x-python",
   "name": "python",
   "nbconvert_exporter": "python",
   "pygments_lexer": "ipython3",
   "version": "3.6.10"
  },
  "latex_envs": {
   "LaTeX_envs_menu_present": true,
   "autoclose": false,
   "autocomplete": true,
   "bibliofile": "biblio.bib",
   "cite_by": "apalike",
   "current_citInitial": 1,
   "eqLabelWithNumbers": true,
   "eqNumInitial": 1,
   "hotkeys": {
    "equation": "Ctrl-E",
    "itemize": "Ctrl-I"
   },
   "labels_anchors": false,
   "latex_user_defs": false,
   "report_style_numbering": false,
   "user_envs_cfg": false
  },
  "nteract": {
   "version": "0.12.3"
  }
 },
 "nbformat": 4,
 "nbformat_minor": 2
}
