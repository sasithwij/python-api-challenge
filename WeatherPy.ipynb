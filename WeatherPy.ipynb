{
 "cells": [
  {
   "cell_type": "markdown",
   "metadata": {},
   "source": [
    "# WeatherPy\n",
    "----\n",
    "\n",
    "#### Note\n",
    "* Instructions have been included for each segment. You do not have to follow them exactly, but they are included to help you think through the steps."
   ]
  },
  {
   "cell_type": "code",
   "execution_count": 1,
   "metadata": {
    "scrolled": true
   },
   "outputs": [
    {
     "name": "stdout",
     "output_type": "stream",
     "text": [
      "Requirement already satisfied: citipy in c:\\users\\sasit\\anaconda3\\envs\\pythondata1\\lib\\site-packages (0.0.5)\n",
      "Requirement already satisfied: kdtree>=0.12 in c:\\users\\sasit\\anaconda3\\envs\\pythondata1\\lib\\site-packages (from citipy) (0.16)\n"
     ]
    }
   ],
   "source": [
    "! pip install citipy"
   ]
  },
  {
   "cell_type": "code",
   "execution_count": 2,
   "metadata": {},
   "outputs": [],
   "source": [
    "# Dependencies\n",
    "import matplotlib.pyplot as plt\n",
    "import requests\n",
    "from scipy import stats\n",
    "import pandas as pd\n",
    "import random\n",
    "from config import api_key\n",
    "import sys\n",
    "\n",
    "#Import citipy for generation of random cities\n",
    "from citipy import citipy"
   ]
  },
  {
   "cell_type": "markdown",
   "metadata": {},
   "source": [
    "## Generate Cities List"
   ]
  },
  {
   "cell_type": "code",
   "execution_count": 3,
   "metadata": {},
   "outputs": [],
   "source": [
    "#Create list of 500 random countries using citipy\n",
    "\n",
    "# Latitude and longtitude max and min\n",
    "latmin = -90\n",
    "latmax = 90\n",
    "\n",
    "longmin = -180\n",
    "longmax = 180\n",
    "\n",
    "# Set a count to get 500 cities and open empty list to add cities and countries\n",
    "count = 0\n",
    "cities = []\n",
    "\n",
    "#Generate random latitude and longitude coordinates\n",
    "while count < 600:\n",
    "    lat = random.uniform(latmin, latmax)\n",
    "    long = random.uniform(longmin, longmax)\n",
    "\n",
    "#Find nearest city to those latitude and longitude values using citypy\n",
    "    loc = citipy.nearest_city(lat, long)\n",
    "    city = loc.city_name\n",
    "    if city: \n",
    "        if city not in cities:\n",
    "            cities.append(city)\n",
    "            count = count + 1\n",
    "        else:\n",
    "            pass"
   ]
  },
  {
   "cell_type": "markdown",
   "metadata": {},
   "source": [
    "### Perform API Calls\n",
    "* Perform a weather check on each city using a series of successive API calls.\n",
    "* Include a print log of each city as it'sbeing processed (with the city number and city name).\n"
   ]
  },
  {
   "cell_type": "code",
   "execution_count": 4,
   "metadata": {
    "scrolled": true
   },
   "outputs": [
    {
     "name": "stdout",
     "output_type": "stream",
     "text": [
      "City not found\n",
      "City Number 1 : longyearbyen found! Appending data\n",
      "City Number 2 : atuona found! Appending data\n",
      "City Number 3 : kutum found! Appending data\n",
      "City Number 4 : nanortalik found! Appending data\n",
      "City Number 5 : kapaa found! Appending data\n",
      "City not found\n",
      "City Number 6 : ushuaia found! Appending data\n",
      "City Number 7 : buraydah found! Appending data\n",
      "City Number 8 : prieska found! Appending data\n",
      "City Number 9 : bengkulu found! Appending data\n",
      "City Number 10 : atbasar found! Appending data\n",
      "City Number 11 : montepuez found! Appending data\n",
      "City Number 12 : hilo found! Appending data\n",
      "City Number 13 : new norfolk found! Appending data\n",
      "City Number 14 : bambous virieux found! Appending data\n",
      "City Number 15 : busselton found! Appending data\n",
      "City Number 16 : bethel found! Appending data\n",
      "City Number 17 : ziyang found! Appending data\n",
      "City Number 18 : mataura found! Appending data\n",
      "City Number 19 : glens falls found! Appending data\n",
      "City Number 20 : shingu found! Appending data\n",
      "City Number 21 : severo-kurilsk found! Appending data\n",
      "City Number 22 : hobart found! Appending data\n",
      "City Number 23 : kibondo found! Appending data\n",
      "City not found\n",
      "City Number 24 : san felipe found! Appending data\n",
      "City Number 25 : modakeke found! Appending data\n",
      "City Number 26 : general bravo found! Appending data\n",
      "City Number 27 : sao joao da barra found! Appending data\n",
      "City Number 28 : srinagar found! Appending data\n",
      "City Number 29 : puerto ayora found! Appending data\n",
      "City Number 30 : chokurdakh found! Appending data\n",
      "City Number 31 : ziro found! Appending data\n",
      "City Number 32 : esperance found! Appending data\n",
      "City Number 33 : ancud found! Appending data\n",
      "City Number 34 : luderitz found! Appending data\n",
      "City Number 35 : muhos found! Appending data\n",
      "City Number 36 : abu dhabi found! Appending data\n",
      "City Number 37 : pevek found! Appending data\n",
      "City Number 38 : rikitea found! Appending data\n",
      "City Number 39 : saint-augustin found! Appending data\n",
      "City Number 40 : faanui found! Appending data\n",
      "City Number 41 : west calder found! Appending data\n",
      "City Number 42 : gat found! Appending data\n",
      "City Number 43 : butaritari found! Appending data\n",
      "City not found\n",
      "City Number 44 : salina cruz found! Appending data\n",
      "City Number 45 : victoria found! Appending data\n",
      "City Number 46 : airai found! Appending data\n",
      "City not found\n",
      "City Number 47 : yurimaguas found! Appending data\n",
      "City Number 48 : coihaique found! Appending data\n",
      "City Number 49 : solnechnyy found! Appending data\n",
      "City Number 50 : suksun found! Appending data\n",
      "City not found\n",
      "City Number 51 : terrace bay found! Appending data\n",
      "City Number 52 : port-gentil found! Appending data\n",
      "City Number 53 : avarua found! Appending data\n",
      "City Number 54 : talnakh found! Appending data\n",
      "City Number 55 : punta arenas found! Appending data\n",
      "City Number 56 : sorong found! Appending data\n",
      "City Number 57 : albany found! Appending data\n",
      "City not found\n",
      "City Number 58 : meulaboh found! Appending data\n",
      "City Number 59 : cape town found! Appending data\n",
      "City Number 60 : bredasdorp found! Appending data\n",
      "City Number 61 : upernavik found! Appending data\n",
      "City not found\n",
      "City Number 62 : port keats found! Appending data\n",
      "City Number 63 : tuyen quang found! Appending data\n",
      "City Number 64 : hithadhoo found! Appending data\n",
      "City Number 65 : yarada found! Appending data\n",
      "City Number 66 : hasaki found! Appending data\n",
      "City Number 67 : mehamn found! Appending data\n",
      "City Number 68 : yellowknife found! Appending data\n",
      "City Number 69 : ostrovnoy found! Appending data\n",
      "City Number 70 : narsaq found! Appending data\n",
      "City Number 71 : jamestown found! Appending data\n",
      "City Number 72 : guiberoua found! Appending data\n",
      "City Number 73 : souillac found! Appending data\n",
      "City Number 74 : languyan found! Appending data\n",
      "City Number 75 : brigantine found! Appending data\n",
      "City Number 76 : anadyr found! Appending data\n",
      "City Number 77 : port lincoln found! Appending data\n",
      "City not found\n",
      "City Number 78 : leo found! Appending data\n",
      "City Number 79 : chuy found! Appending data\n",
      "City Number 80 : tuktoyaktuk found! Appending data\n",
      "City Number 81 : hervey bay found! Appending data\n",
      "City Number 82 : khatanga found! Appending data\n",
      "City Number 83 : ralivka found! Appending data\n",
      "City Number 84 : mlimba found! Appending data\n",
      "City Number 85 : deputatskiy found! Appending data\n",
      "City Number 86 : grindavik found! Appending data\n",
      "City not found\n",
      "City Number 87 : guerrero negro found! Appending data\n",
      "City Number 88 : saskylakh found! Appending data\n",
      "City Number 89 : trairi found! Appending data\n",
      "City Number 90 : namibe found! Appending data\n",
      "City Number 91 : vaini found! Appending data\n",
      "City not found\n",
      "City Number 92 : penzance found! Appending data\n",
      "City Number 93 : bluff found! Appending data\n",
      "City Number 94 : provideniya found! Appending data\n",
      "City Number 95 : tanabe found! Appending data\n",
      "City Number 96 : iquique found! Appending data\n",
      "City Number 97 : kanniyakumari found! Appending data\n",
      "City Number 98 : hamilton found! Appending data\n",
      "City Number 99 : buala found! Appending data\n",
      "City Number 100 : lebedinyy found! Appending data\n",
      "City Number 101 : taseyevo found! Appending data\n",
      "City Number 102 : saurimo found! Appending data\n",
      "City Number 103 : bay saint louis found! Appending data\n",
      "City Number 104 : lompoc found! Appending data\n",
      "City Number 105 : auki found! Appending data\n",
      "City Number 106 : pathalgaon found! Appending data\n",
      "City Number 107 : thompson found! Appending data\n",
      "City Number 108 : ketchikan found! Appending data\n",
      "City Number 109 : qaanaaq found! Appending data\n",
      "City Number 110 : alamosa found! Appending data\n",
      "City Number 111 : morehead found! Appending data\n",
      "City Number 112 : kushima found! Appending data\n",
      "City Number 113 : alice springs found! Appending data\n",
      "City not found\n",
      "City Number 114 : nantucket found! Appending data\n",
      "City Number 115 : novopokrovka found! Appending data\n",
      "City Number 116 : san quintin found! Appending data\n",
      "City Number 117 : lavrentiya found! Appending data\n",
      "City Number 118 : laguna found! Appending data\n",
      "City Number 119 : montego bay found! Appending data\n",
      "City Number 120 : kemijarvi found! Appending data\n",
      "City Number 121 : hermanus found! Appending data\n",
      "City Number 122 : tevriz found! Appending data\n",
      "City Number 123 : muros found! Appending data\n",
      "City Number 124 : hudson bay found! Appending data\n",
      "City Number 125 : kruisfontein found! Appending data\n",
      "City Number 126 : mar del plata found! Appending data\n",
      "City Number 127 : cidreira found! Appending data\n",
      "City Number 128 : carnarvon found! Appending data\n",
      "City not found\n",
      "City not found\n",
      "City Number 129 : sakakah found! Appending data\n",
      "City not found\n",
      "City Number 130 : port elizabeth found! Appending data\n",
      "City Number 131 : sorland found! Appending data\n",
      "City Number 132 : cabo san lucas found! Appending data\n",
      "City Number 133 : atar found! Appending data\n",
      "City Number 134 : nyurba found! Appending data\n",
      "City Number 135 : mahebourg found! Appending data\n",
      "City Number 136 : koumac found! Appending data\n",
      "City Number 137 : la rochelle found! Appending data\n",
      "City Number 138 : sandwick found! Appending data\n",
      "City Number 139 : east london found! Appending data\n",
      "City Number 140 : joshimath found! Appending data\n",
      "City Number 141 : ruwi found! Appending data\n",
      "City Number 142 : paracuru found! Appending data\n",
      "City Number 143 : kodiak found! Appending data\n",
      "City Number 144 : lingao found! Appending data\n",
      "City Number 145 : humaita found! Appending data\n",
      "City Number 146 : tiksi found! Appending data\n",
      "City Number 147 : dvinskoy found! Appending data\n",
      "City not found\n",
      "City Number 148 : flinders found! Appending data\n",
      "City Number 149 : dikson found! Appending data\n",
      "City not found\n",
      "City Number 150 : cherskiy found! Appending data\n",
      "City Number 151 : constitucion found! Appending data\n",
      "City Number 152 : dharampuri found! Appending data\n",
      "City Number 153 : asaka found! Appending data\n",
      "City Number 154 : alofi found! Appending data\n",
      "City Number 155 : nchelenge found! Appending data\n",
      "City Number 156 : dondo found! Appending data\n",
      "City not found\n",
      "City Number 157 : coquimbo found! Appending data\n",
      "City Number 158 : ahipara found! Appending data\n",
      "City not found\n",
      "City Number 159 : batagay found! Appending data\n",
      "City not found\n",
      "City Number 160 : anuchino found! Appending data\n",
      "City Number 161 : egvekinot found! Appending data\n",
      "City Number 162 : bahia blanca found! Appending data\n",
      "City Number 163 : ribeira grande found! Appending data\n"
     ]
    },
    {
     "name": "stdout",
     "output_type": "stream",
     "text": [
      "City Number 164 : qaqortoq found! Appending data\n",
      "City Number 165 : tshikapa found! Appending data\n",
      "City Number 166 : nicolas bravo found! Appending data\n",
      "City Number 167 : ambon found! Appending data\n",
      "City Number 168 : along found! Appending data\n",
      "City Number 169 : bhachau found! Appending data\n",
      "City Number 170 : nikolskoye found! Appending data\n",
      "City Number 171 : puerto escondido found! Appending data\n",
      "City Number 172 : port alfred found! Appending data\n",
      "City Number 173 : yeppoon found! Appending data\n",
      "City Number 174 : havelock found! Appending data\n",
      "City Number 175 : san patricio found! Appending data\n",
      "City Number 176 : bilma found! Appending data\n",
      "City Number 177 : belmonte found! Appending data\n",
      "City Number 178 : topeka found! Appending data\n",
      "City Number 179 : rio cauto found! Appending data\n",
      "City Number 180 : casper found! Appending data\n",
      "City Number 181 : kondinskoye found! Appending data\n",
      "City Number 182 : totma found! Appending data\n",
      "City Number 183 : sitka found! Appending data\n",
      "City Number 184 : srednekolymsk found! Appending data\n",
      "City Number 185 : port hedland found! Appending data\n",
      "City Number 186 : lima found! Appending data\n",
      "City Number 187 : hobyo found! Appending data\n",
      "City Number 188 : jumla found! Appending data\n",
      "City Number 189 : lorengau found! Appending data\n",
      "City Number 190 : vardo found! Appending data\n",
      "City Number 191 : aberdeen found! Appending data\n",
      "City Number 192 : panvel found! Appending data\n",
      "City Number 193 : coxim found! Appending data\n",
      "City Number 194 : georgetown found! Appending data\n",
      "City Number 195 : sao miguel found! Appending data\n",
      "City Number 196 : camacha found! Appending data\n",
      "City Number 197 : grand gaube found! Appending data\n",
      "City Number 198 : harper found! Appending data\n",
      "City Number 199 : seaside found! Appending data\n",
      "City Number 200 : jyvaskyla found! Appending data\n",
      "City Number 201 : ambilobe found! Appending data\n",
      "City Number 202 : vao found! Appending data\n",
      "City Number 203 : saint-philippe found! Appending data\n",
      "City Number 204 : waddan found! Appending data\n",
      "City Number 205 : ardakan found! Appending data\n",
      "City Number 206 : hami found! Appending data\n",
      "City Number 207 : bamiantong found! Appending data\n",
      "City Number 208 : kyrylivka found! Appending data\n",
      "City Number 209 : skaerbaek found! Appending data\n",
      "City not found\n",
      "City Number 210 : arraial do cabo found! Appending data\n",
      "City not found\n",
      "City Number 211 : isla vista found! Appending data\n",
      "City not found\n",
      "City Number 212 : nishihara found! Appending data\n",
      "City Number 213 : kirakira found! Appending data\n",
      "City Number 214 : puri found! Appending data\n",
      "City Number 215 : lebu found! Appending data\n",
      "City Number 216 : kavieng found! Appending data\n",
      "City Number 217 : fort myers beach found! Appending data\n",
      "City Number 218 : hovd found! Appending data\n",
      "City Number 219 : inirida found! Appending data\n",
      "City Number 220 : kasane found! Appending data\n",
      "City Number 221 : fuyang found! Appending data\n",
      "City Number 222 : saint-pierre found! Appending data\n",
      "City Number 223 : portland found! Appending data\n",
      "City Number 224 : havre-saint-pierre found! Appending data\n",
      "City Number 225 : verkhnevilyuysk found! Appending data\n",
      "City not found\n",
      "City Number 226 : kawalu found! Appending data\n",
      "City Number 227 : santa fe found! Appending data\n",
      "City Number 228 : lipin bor found! Appending data\n",
      "City Number 229 : clyde river found! Appending data\n",
      "City not found\n",
      "City Number 230 : amapa found! Appending data\n",
      "City Number 231 : kaitangata found! Appending data\n",
      "City Number 232 : starkville found! Appending data\n",
      "City Number 233 : sao filipe found! Appending data\n",
      "City Number 234 : berlevag found! Appending data\n",
      "City Number 235 : bandarbeyla found! Appending data\n",
      "City Number 236 : north bend found! Appending data\n",
      "City Number 237 : jaca found! Appending data\n",
      "City Number 238 : carutapera found! Appending data\n",
      "City Number 239 : tasiilaq found! Appending data\n",
      "City Number 240 : kolokani found! Appending data\n",
      "City Number 241 : villaviciosa found! Appending data\n",
      "City Number 242 : saint george found! Appending data\n",
      "City Number 243 : norman wells found! Appending data\n",
      "City Number 244 : sosva found! Appending data\n",
      "City Number 245 : nuuk found! Appending data\n",
      "City Number 246 : erzurum found! Appending data\n",
      "City Number 247 : husavik found! Appending data\n",
      "City Number 248 : key west found! Appending data\n",
      "City Number 249 : la ronge found! Appending data\n",
      "City Number 250 : vejalpur found! Appending data\n",
      "City Number 251 : luanda found! Appending data\n",
      "City Number 252 : saint-joseph found! Appending data\n",
      "City Number 253 : altoona found! Appending data\n",
      "City Number 254 : verkhoyansk found! Appending data\n",
      "City Number 255 : san vicente found! Appending data\n",
      "City Number 256 : chara found! Appending data\n",
      "City Number 257 : hendrina found! Appending data\n",
      "City Number 258 : muisne found! Appending data\n",
      "City Number 259 : arman found! Appending data\n",
      "City Number 260 : itarema found! Appending data\n",
      "City Number 261 : rosarito found! Appending data\n",
      "City Number 262 : dicabisagan found! Appending data\n",
      "City Number 263 : burnie found! Appending data\n",
      "City Number 264 : tevaitoa found! Appending data\n",
      "City Number 265 : evensk found! Appending data\n",
      "City Number 266 : boca do acre found! Appending data\n",
      "City Number 267 : lulea found! Appending data\n",
      "City Number 268 : sistranda found! Appending data\n",
      "City Number 269 : isangel found! Appending data\n",
      "City Number 270 : zhigansk found! Appending data\n",
      "City Number 271 : mirnyy found! Appending data\n",
      "City Number 272 : calbuco found! Appending data\n",
      "City Number 273 : agadez found! Appending data\n",
      "City Number 274 : zolotukhino found! Appending data\n",
      "City Number 275 : sayanogorsk found! Appending data\n",
      "City Number 276 : ulaanbaatar found! Appending data\n",
      "City Number 277 : plouzane found! Appending data\n",
      "City Number 278 : arezzo found! Appending data\n",
      "City Number 279 : caravelas found! Appending data\n",
      "City Number 280 : aklavik found! Appending data\n",
      "City Number 281 : matamoros found! Appending data\n",
      "City Number 282 : morros found! Appending data\n",
      "City Number 283 : pacific grove found! Appending data\n",
      "City Number 284 : punta alta found! Appending data\n",
      "City Number 285 : saint-raymond found! Appending data\n",
      "City Number 286 : krasnoselkup found! Appending data\n",
      "City Number 287 : yankton found! Appending data\n",
      "City Number 288 : haines junction found! Appending data\n",
      "City Number 289 : pisco found! Appending data\n",
      "City Number 290 : constantine found! Appending data\n",
      "City not found\n",
      "City not found\n",
      "City Number 291 : havre found! Appending data\n",
      "City Number 292 : rantepao found! Appending data\n",
      "City Number 293 : fortuna found! Appending data\n",
      "City Number 294 : dickinson found! Appending data\n",
      "City Number 295 : sicamous found! Appending data\n",
      "City Number 296 : sobolivka found! Appending data\n",
      "City Number 297 : villa carlos paz found! Appending data\n",
      "City Number 298 : katsuura found! Appending data\n",
      "City Number 299 : tuatapere found! Appending data\n",
      "City Number 300 : el sauzal found! Appending data\n",
      "City Number 301 : tarko-sale found! Appending data\n",
      "City Number 302 : san ramon found! Appending data\n",
      "City Number 303 : pacocha found! Appending data\n",
      "City Number 304 : klaksvik found! Appending data\n",
      "City Number 305 : ucluelet found! Appending data\n",
      "City Number 306 : porto novo found! Appending data\n",
      "City Number 307 : hunchun found! Appending data\n",
      "City Number 308 : sola found! Appending data\n",
      "City Number 309 : voh found! Appending data\n",
      "City Number 310 : port hardy found! Appending data\n",
      "City Number 311 : sisimiut found! Appending data\n",
      "City Number 312 : dali found! Appending data\n",
      "City Number 313 : asfi found! Appending data\n",
      "City Number 314 : camalu found! Appending data\n",
      "City Number 315 : korla found! Appending data\n",
      "City Number 316 : nizhniy odes found! Appending data\n",
      "City not found\n",
      "City Number 317 : henties bay found! Appending data\n",
      "City Number 318 : samandag found! Appending data\n",
      "City Number 319 : lagoa found! Appending data\n",
      "City Number 320 : sao jose da coroa grande found! Appending data\n",
      "City Number 321 : turbat found! Appending data\n",
      "City Number 322 : luzilandia found! Appending data\n",
      "City Number 323 : doha found! Appending data\n",
      "City Number 324 : banda aceh found! Appending data\n",
      "City Number 325 : general roca found! Appending data\n",
      "City Number 326 : bhuj found! Appending data\n",
      "City Number 327 : tazovskiy found! Appending data\n"
     ]
    },
    {
     "name": "stdout",
     "output_type": "stream",
     "text": [
      "City Number 328 : mayo found! Appending data\n",
      "City Number 329 : lucea found! Appending data\n",
      "City Number 330 : broken hill found! Appending data\n",
      "City Number 331 : altay found! Appending data\n",
      "City Number 332 : cartagena found! Appending data\n",
      "City not found\n",
      "City Number 333 : nelson bay found! Appending data\n",
      "City Number 334 : iqaluit found! Appending data\n",
      "City Number 335 : vila do maio found! Appending data\n",
      "City Number 336 : madras found! Appending data\n",
      "City Number 337 : kavaratti found! Appending data\n",
      "City Number 338 : saldanha found! Appending data\n",
      "City Number 339 : catarama found! Appending data\n",
      "City not found\n",
      "City Number 340 : tuy hoa found! Appending data\n",
      "City Number 341 : sundsvall found! Appending data\n",
      "City not found\n",
      "City Number 342 : novaya bryan found! Appending data\n",
      "City Number 343 : nouadhibou found! Appending data\n",
      "City Number 344 : marsh harbour found! Appending data\n",
      "City Number 345 : derzhavinsk found! Appending data\n",
      "City Number 346 : bella union found! Appending data\n",
      "City Number 347 : gorom-gorom found! Appending data\n",
      "City Number 348 : sechura found! Appending data\n",
      "City Number 349 : torbay found! Appending data\n",
      "City Number 350 : gweta found! Appending data\n",
      "City Number 351 : axim found! Appending data\n",
      "City Number 352 : qostanay found! Appending data\n",
      "City Number 353 : bilibino found! Appending data\n",
      "City not found\n",
      "City Number 354 : saravena found! Appending data\n",
      "City Number 355 : koson found! Appending data\n",
      "City not found\n",
      "City Number 356 : mount isa found! Appending data\n",
      "City Number 357 : inuvik found! Appending data\n",
      "City Number 358 : honiara found! Appending data\n",
      "City Number 359 : ilulissat found! Appending data\n",
      "City Number 360 : yanam found! Appending data\n",
      "City Number 361 : pitea found! Appending data\n",
      "City Number 362 : bitam found! Appending data\n",
      "City Number 363 : lazaro cardenas found! Appending data\n",
      "City Number 364 : barrow found! Appending data\n",
      "City Number 365 : quatre cocos found! Appending data\n",
      "City Number 366 : loukhi found! Appending data\n",
      "City Number 367 : eureka found! Appending data\n",
      "City Number 368 : matara found! Appending data\n",
      "City Number 369 : jacareacanga found! Appending data\n",
      "City Number 370 : richards bay found! Appending data\n",
      "City Number 371 : riyadh found! Appending data\n",
      "City Number 372 : guthrie found! Appending data\n",
      "City Number 373 : rayadrug found! Appending data\n",
      "City Number 374 : margate found! Appending data\n",
      "City Number 375 : green river found! Appending data\n",
      "City Number 376 : conde found! Appending data\n",
      "City Number 377 : san juan found! Appending data\n",
      "City Number 378 : antofagasta found! Appending data\n",
      "City Number 379 : bodden town found! Appending data\n",
      "City Number 380 : samfya found! Appending data\n",
      "City Number 381 : vila velha found! Appending data\n",
      "City Number 382 : micheweni found! Appending data\n",
      "City Number 383 : tucuman found! Appending data\n",
      "City Number 384 : bundaberg found! Appending data\n",
      "City not found\n",
      "City Number 385 : elliot lake found! Appending data\n",
      "City Number 386 : barreirinhas found! Appending data\n",
      "City Number 387 : ponta do sol found! Appending data\n",
      "City Number 388 : kamaishi found! Appending data\n",
      "City Number 389 : sao felix do xingu found! Appending data\n",
      "City not found\n",
      "City Number 390 : nemuro found! Appending data\n",
      "City Number 391 : rochegda found! Appending data\n",
      "City Number 392 : londoko found! Appending data\n",
      "City Number 393 : hasilpur found! Appending data\n",
      "City Number 394 : half moon bay found! Appending data\n",
      "City Number 395 : jiayuguan found! Appending data\n",
      "City Number 396 : inndyr found! Appending data\n",
      "City Number 397 : quipile found! Appending data\n",
      "City Number 398 : avera found! Appending data\n",
      "City Number 399 : pajapan found! Appending data\n",
      "City Number 400 : lvovskoye found! Appending data\n",
      "City Number 401 : razole found! Appending data\n",
      "City Number 402 : port blair found! Appending data\n",
      "City Number 403 : mangochi found! Appending data\n",
      "City Number 404 : miri found! Appending data\n",
      "City Number 405 : fengzhen found! Appending data\n",
      "City Number 406 : sabana de torres found! Appending data\n",
      "City Number 407 : batagay-alyta found! Appending data\n",
      "City not found\n",
      "City Number 408 : codrington found! Appending data\n",
      "City Number 409 : dasoguz found! Appending data\n",
      "City Number 410 : beringovskiy found! Appending data\n",
      "City Number 411 : vuktyl found! Appending data\n",
      "City Number 412 : college found! Appending data\n",
      "City Number 413 : kuah found! Appending data\n",
      "City Number 414 : khonsa found! Appending data\n",
      "City Number 415 : isla aguada found! Appending data\n",
      "City Number 416 : nabire found! Appending data\n",
      "City Number 417 : wegorzewo found! Appending data\n",
      "City Number 418 : kompaniyivka found! Appending data\n",
      "City Number 419 : padang found! Appending data\n",
      "City Number 420 : byron bay found! Appending data\n",
      "City Number 421 : ambovombe found! Appending data\n",
      "City not found\n",
      "City Number 422 : bom jesus found! Appending data\n",
      "City Number 423 : ipixuna found! Appending data\n",
      "City Number 424 : peterhead found! Appending data\n",
      "City Number 425 : baykit found! Appending data\n",
      "City not found\n",
      "City Number 426 : mezen found! Appending data\n",
      "City Number 427 : sinegorsk found! Appending data\n",
      "City not found\n",
      "City Number 428 : nkwerre found! Appending data\n",
      "City Number 429 : touros found! Appending data\n",
      "City Number 430 : kimbe found! Appending data\n",
      "City not found\n",
      "City Number 431 : ponta delgada found! Appending data\n",
      "City Number 432 : oussouye found! Appending data\n",
      "City Number 433 : domoni found! Appending data\n",
      "City Number 434 : darnah found! Appending data\n",
      "City Number 435 : sangmelima found! Appending data\n",
      "City Number 436 : valleyview found! Appending data\n",
      "City Number 437 : graaff-reinet found! Appending data\n",
      "City Number 438 : riberalta found! Appending data\n",
      "City Number 439 : tomatlan found! Appending data\n",
      "City Number 440 : timiryazevskiy found! Appending data\n",
      "City Number 441 : inhambane found! Appending data\n",
      "City Number 442 : frolovo found! Appending data\n",
      "City Number 443 : moanda found! Appending data\n",
      "City Number 444 : castro found! Appending data\n",
      "City Number 445 : berdigestyakh found! Appending data\n",
      "City Number 446 : naze found! Appending data\n",
      "City Number 447 : jieshi found! Appending data\n",
      "City Number 448 : bintulu found! Appending data\n",
      "City Number 449 : kortkeros found! Appending data\n",
      "City Number 450 : aquiraz found! Appending data\n",
      "City Number 451 : naliya found! Appending data\n",
      "City Number 452 : sharanga found! Appending data\n",
      "City Number 453 : preobrazheniye found! Appending data\n",
      "City Number 454 : arlit found! Appending data\n",
      "City Number 455 : karpathos found! Appending data\n",
      "City Number 456 : hofn found! Appending data\n",
      "City Number 457 : acari found! Appending data\n",
      "City not found\n",
      "City Number 458 : paamiut found! Appending data\n",
      "City Number 459 : rio gallegos found! Appending data\n",
      "City Number 460 : gambo found! Appending data\n",
      "City Number 461 : labuhan found! Appending data\n",
      "City Number 462 : copiapo found! Appending data\n",
      "City Number 463 : geraldton found! Appending data\n",
      "City Number 464 : nargana found! Appending data\n",
      "City Number 465 : saint anthony found! Appending data\n",
      "City Number 466 : hvolsvollur found! Appending data\n",
      "City Number 467 : whitehorse found! Appending data\n",
      "City Number 468 : mecca found! Appending data\n",
      "City Number 469 : aswan found! Appending data\n",
      "City Number 470 : venado tuerto found! Appending data\n",
      "City Number 471 : tezu found! Appending data\n",
      "City Number 472 : columbus found! Appending data\n",
      "City Number 473 : vestmannaeyjar found! Appending data\n",
      "City Number 474 : dunedin found! Appending data\n",
      "City Number 475 : chimbote found! Appending data\n",
      "City Number 476 : grenville found! Appending data\n",
      "City Number 477 : sharjah found! Appending data\n",
      "City not found\n",
      "City Number 478 : valenca found! Appending data\n",
      "City Number 479 : beloha found! Appending data\n",
      "City Number 480 : kahului found! Appending data\n",
      "City not found\n",
      "City Number 481 : swellendam found! Appending data\n",
      "City Number 482 : emerald found! Appending data\n",
      "City Number 483 : ulladulla found! Appending data\n",
      "City Number 484 : huangchuan found! Appending data\n",
      "City Number 485 : kampene found! Appending data\n",
      "City Number 486 : corpus christi found! Appending data\n",
      "City Number 487 : santa cruz found! Appending data\n",
      "City Number 488 : carlisle found! Appending data\n",
      "City Number 489 : kurchum found! Appending data\n"
     ]
    },
    {
     "name": "stdout",
     "output_type": "stream",
     "text": [
      "City Number 490 : amuntai found! Appending data\n",
      "City Number 491 : sao miguel do araguaia found! Appending data\n",
      "City Number 492 : jertih found! Appending data\n",
      "City not found\n",
      "City Number 493 : aden found! Appending data\n",
      "City Number 494 : pasighat found! Appending data\n",
      "City Number 495 : albemarle found! Appending data\n",
      "City Number 496 : shalinskoye found! Appending data\n",
      "City Number 497 : west wendover found! Appending data\n",
      "City Number 498 : wellington found! Appending data\n",
      "City Number 499 : verkhniye kigi found! Appending data\n",
      "City Number 500 : iskateley found! Appending data\n",
      "City Number 501 : high level found! Appending data\n",
      "City Number 502 : sao lourenco do sul found! Appending data\n",
      "City Number 503 : leningradskiy found! Appending data\n",
      "City Number 504 : koulikoro found! Appending data\n",
      "City Number 505 : palora found! Appending data\n",
      "City Number 506 : tanta found! Appending data\n",
      "City Number 507 : jinka found! Appending data\n",
      "City Number 508 : kiunga found! Appending data\n",
      "City Number 509 : la tuque found! Appending data\n",
      "City Number 510 : viedma found! Appending data\n",
      "City Number 511 : puerto narino found! Appending data\n",
      "City Number 512 : brae found! Appending data\n",
      "City Number 513 : paredon found! Appending data\n",
      "City Number 514 : xai-xai found! Appending data\n",
      "City Number 515 : biak found! Appending data\n",
      "City Number 516 : havoysund found! Appending data\n",
      "City Number 517 : mananara found! Appending data\n",
      "City Number 518 : sena madureira found! Appending data\n",
      "City Number 519 : lamar found! Appending data\n",
      "City Number 520 : afikpo found! Appending data\n",
      "City Number 521 : seymchan found! Appending data\n",
      "City Number 522 : raga found! Appending data\n",
      "City Number 523 : devonport found! Appending data\n",
      "City Number 524 : zastron found! Appending data\n",
      "City Number 525 : opole lubelskie found! Appending data\n",
      "City Number 526 : hambantota found! Appending data\n",
      "City Number 527 : ouadda found! Appending data\n",
      "City Number 528 : alenquer found! Appending data\n",
      "City Number 529 : harnosand found! Appending data\n",
      "City Number 530 : acarau found! Appending data\n",
      "City Number 531 : ginda found! Appending data\n",
      "City Number 532 : batavia found! Appending data\n",
      "City not found\n",
      "City Number 533 : pangnirtung found! Appending data\n",
      "City Number 534 : savinka found! Appending data\n",
      "City Number 535 : matane found! Appending data\n",
      "City not found\n",
      "City Number 536 : muroto found! Appending data\n",
      "City Number 537 : tynda found! Appending data\n",
      "City Number 538 : bondowoso found! Appending data\n",
      "City not found\n",
      "City Number 539 : sao pedro do sul found! Appending data\n",
      "City Number 540 : qunduz found! Appending data\n",
      "City Number 541 : pueblo nuevo found! Appending data\n",
      "City Number 542 : veraval found! Appending data\n",
      "City Number 543 : yazman found! Appending data\n",
      "City Number 544 : zhuhai found! Appending data\n",
      "City Number 545 : norsup found! Appending data\n",
      "City Number 546 : saint-denis found! Appending data\n",
      "City Number 547 : mitu found! Appending data\n",
      "City Number 548 : ippy found! Appending data\n",
      "City Number 549 : chapais found! Appending data\n",
      "City Number 550 : ajaccio found! Appending data\n",
      "City Number 551 : dongsheng found! Appending data\n",
      "City Number 552 : moussoro found! Appending data\n",
      "City Number 553 : pundaguitan found! Appending data\n"
     ]
    }
   ],
   "source": [
    "# Save config information.\n",
    "url = \"http://api.openweathermap.org/data/2.5/weather?\"\n",
    "units = \"imperial\"\n",
    "\n",
    "# Build partial query URL\n",
    "query_url = f\"{url}appid={api_key}&units={units}&q=\"\n",
    "query_url\n",
    "\n",
    "# set up lists to hold reponse info\n",
    "country = []\n",
    "city_name = []\n",
    "lat = []\n",
    "long = []\n",
    "temperature =[]\n",
    "humidity =[]\n",
    "cloudiness =[]\n",
    "wind_speed =[]\n",
    "\n",
    "count = 0\n",
    "#Loop through the list of cities and perform a request for data on each\n",
    "for city in cities:\n",
    "    try:\n",
    "        response = requests.get(query_url + city).json()\n",
    "        country.append(response['sys']['country'])\n",
    "        city_name.append(response['name'])\n",
    "        lat.append(response['coord']['lat'])\n",
    "        long.append(response['coord']['lon'])\n",
    "        temperature.append(response['main']['temp'])\n",
    "        humidity.append(response['main']['humidity'])\n",
    "        cloudiness.append(response['clouds']['all'])\n",
    "        wind_speed.append(response['wind']['speed'])\n",
    "        count = count + 1\n",
    "        print(f\"City Number {count} : {city} found! Appending data\")\n",
    "    \n",
    "    except:\n",
    "        print(\"City not found\")\n",
    "        pass"
   ]
  },
  {
   "cell_type": "markdown",
   "metadata": {},
   "source": [
    "### Convert Raw Data to DataFrame\n",
    "* Export the city data into a .csv.\n",
    "* Display the DataFrame"
   ]
  },
  {
   "cell_type": "code",
   "execution_count": 5,
   "metadata": {},
   "outputs": [
    {
     "data": {
      "text/html": [
       "<div>\n",
       "<style scoped>\n",
       "    .dataframe tbody tr th:only-of-type {\n",
       "        vertical-align: middle;\n",
       "    }\n",
       "\n",
       "    .dataframe tbody tr th {\n",
       "        vertical-align: top;\n",
       "    }\n",
       "\n",
       "    .dataframe thead th {\n",
       "        text-align: right;\n",
       "    }\n",
       "</style>\n",
       "<table border=\"1\" class=\"dataframe\">\n",
       "  <thead>\n",
       "    <tr style=\"text-align: right;\">\n",
       "      <th></th>\n",
       "      <th>Country</th>\n",
       "      <th>City</th>\n",
       "      <th>Longitude</th>\n",
       "      <th>Latitude</th>\n",
       "      <th>Temperature(F)</th>\n",
       "      <th>Humidity(%)</th>\n",
       "      <th>Cloudiness(%)</th>\n",
       "      <th>Wind_Speed(mph)</th>\n",
       "    </tr>\n",
       "  </thead>\n",
       "  <tbody>\n",
       "    <tr>\n",
       "      <th>0</th>\n",
       "      <td>SJ</td>\n",
       "      <td>Longyearbyen</td>\n",
       "      <td>15.64</td>\n",
       "      <td>78.22</td>\n",
       "      <td>42.80</td>\n",
       "      <td>75</td>\n",
       "      <td>75</td>\n",
       "      <td>24.16</td>\n",
       "    </tr>\n",
       "    <tr>\n",
       "      <th>1</th>\n",
       "      <td>PF</td>\n",
       "      <td>Atuona</td>\n",
       "      <td>-139.03</td>\n",
       "      <td>-9.80</td>\n",
       "      <td>78.49</td>\n",
       "      <td>75</td>\n",
       "      <td>0</td>\n",
       "      <td>19.06</td>\n",
       "    </tr>\n",
       "    <tr>\n",
       "      <th>2</th>\n",
       "      <td>SD</td>\n",
       "      <td>Kutum</td>\n",
       "      <td>24.67</td>\n",
       "      <td>14.20</td>\n",
       "      <td>74.77</td>\n",
       "      <td>61</td>\n",
       "      <td>90</td>\n",
       "      <td>11.14</td>\n",
       "    </tr>\n",
       "    <tr>\n",
       "      <th>3</th>\n",
       "      <td>GL</td>\n",
       "      <td>Nanortalik</td>\n",
       "      <td>-45.24</td>\n",
       "      <td>60.14</td>\n",
       "      <td>34.36</td>\n",
       "      <td>79</td>\n",
       "      <td>2</td>\n",
       "      <td>16.60</td>\n",
       "    </tr>\n",
       "    <tr>\n",
       "      <th>4</th>\n",
       "      <td>US</td>\n",
       "      <td>Kapaa</td>\n",
       "      <td>-159.32</td>\n",
       "      <td>22.08</td>\n",
       "      <td>81.75</td>\n",
       "      <td>66</td>\n",
       "      <td>1</td>\n",
       "      <td>6.93</td>\n",
       "    </tr>\n",
       "  </tbody>\n",
       "</table>\n",
       "</div>"
      ],
      "text/plain": [
       "  Country          City  Longitude  Latitude  Temperature(F)  Humidity(%)  \\\n",
       "0      SJ  Longyearbyen      15.64     78.22           42.80           75   \n",
       "1      PF        Atuona    -139.03     -9.80           78.49           75   \n",
       "2      SD         Kutum      24.67     14.20           74.77           61   \n",
       "3      GL    Nanortalik     -45.24     60.14           34.36           79   \n",
       "4      US         Kapaa    -159.32     22.08           81.75           66   \n",
       "\n",
       "   Cloudiness(%)  Wind_Speed(mph)  \n",
       "0             75            24.16  \n",
       "1              0            19.06  \n",
       "2             90            11.14  \n",
       "3              2            16.60  \n",
       "4              1             6.93  "
      ]
     },
     "execution_count": 5,
     "metadata": {},
     "output_type": "execute_result"
    }
   ],
   "source": [
    "#Create Dataframe\n",
    "city_data = pd.DataFrame({\n",
    "    'Country' : country,\n",
    "    'City': city_name,\n",
    "    'Longitude' : long,\n",
    "    'Latitude': lat,\n",
    "    'Temperature(F)': temperature, \n",
    "    'Humidity(%)': humidity,\n",
    "    'Cloudiness(%)': cloudiness,\n",
    "    'Wind_Speed(mph)': wind_speed\n",
    "})\n",
    "\n",
    "city_data.to_csv('output_data/export_city_df.csv', index=False)\n",
    "city_data.head(5)"
   ]
  },
  {
   "cell_type": "code",
   "execution_count": 6,
   "metadata": {},
   "outputs": [
    {
     "data": {
      "text/html": [
       "<div>\n",
       "<style scoped>\n",
       "    .dataframe tbody tr th:only-of-type {\n",
       "        vertical-align: middle;\n",
       "    }\n",
       "\n",
       "    .dataframe tbody tr th {\n",
       "        vertical-align: top;\n",
       "    }\n",
       "\n",
       "    .dataframe thead th {\n",
       "        text-align: right;\n",
       "    }\n",
       "</style>\n",
       "<table border=\"1\" class=\"dataframe\">\n",
       "  <thead>\n",
       "    <tr style=\"text-align: right;\">\n",
       "      <th></th>\n",
       "      <th>Longitude</th>\n",
       "      <th>Latitude</th>\n",
       "      <th>Temperature(F)</th>\n",
       "      <th>Humidity(%)</th>\n",
       "      <th>Cloudiness(%)</th>\n",
       "      <th>Wind_Speed(mph)</th>\n",
       "    </tr>\n",
       "  </thead>\n",
       "  <tbody>\n",
       "    <tr>\n",
       "      <th>count</th>\n",
       "      <td>553.000000</td>\n",
       "      <td>553.000000</td>\n",
       "      <td>553.000000</td>\n",
       "      <td>553.000000</td>\n",
       "      <td>553.000000</td>\n",
       "      <td>553.000000</td>\n",
       "    </tr>\n",
       "    <tr>\n",
       "      <th>mean</th>\n",
       "      <td>14.474756</td>\n",
       "      <td>19.855787</td>\n",
       "      <td>63.238951</td>\n",
       "      <td>73.748644</td>\n",
       "      <td>51.848101</td>\n",
       "      <td>7.605823</td>\n",
       "    </tr>\n",
       "    <tr>\n",
       "      <th>std</th>\n",
       "      <td>90.388904</td>\n",
       "      <td>33.747467</td>\n",
       "      <td>16.150276</td>\n",
       "      <td>19.611169</td>\n",
       "      <td>39.156256</td>\n",
       "      <td>5.474940</td>\n",
       "    </tr>\n",
       "    <tr>\n",
       "      <th>min</th>\n",
       "      <td>-179.170000</td>\n",
       "      <td>-54.800000</td>\n",
       "      <td>14.110000</td>\n",
       "      <td>9.000000</td>\n",
       "      <td>0.000000</td>\n",
       "      <td>0.110000</td>\n",
       "    </tr>\n",
       "    <tr>\n",
       "      <th>25%</th>\n",
       "      <td>-68.510000</td>\n",
       "      <td>-8.140000</td>\n",
       "      <td>51.040000</td>\n",
       "      <td>64.000000</td>\n",
       "      <td>7.000000</td>\n",
       "      <td>3.360000</td>\n",
       "    </tr>\n",
       "    <tr>\n",
       "      <th>50%</th>\n",
       "      <td>21.480000</td>\n",
       "      <td>23.270000</td>\n",
       "      <td>64.760000</td>\n",
       "      <td>78.000000</td>\n",
       "      <td>51.000000</td>\n",
       "      <td>6.110000</td>\n",
       "    </tr>\n",
       "    <tr>\n",
       "      <th>75%</th>\n",
       "      <td>91.400000</td>\n",
       "      <td>48.920000</td>\n",
       "      <td>77.000000</td>\n",
       "      <td>88.000000</td>\n",
       "      <td>90.000000</td>\n",
       "      <td>10.290000</td>\n",
       "    </tr>\n",
       "    <tr>\n",
       "      <th>max</th>\n",
       "      <td>179.320000</td>\n",
       "      <td>78.220000</td>\n",
       "      <td>98.600000</td>\n",
       "      <td>100.000000</td>\n",
       "      <td>100.000000</td>\n",
       "      <td>33.330000</td>\n",
       "    </tr>\n",
       "  </tbody>\n",
       "</table>\n",
       "</div>"
      ],
      "text/plain": [
       "        Longitude    Latitude  Temperature(F)  Humidity(%)  Cloudiness(%)  \\\n",
       "count  553.000000  553.000000      553.000000   553.000000     553.000000   \n",
       "mean    14.474756   19.855787       63.238951    73.748644      51.848101   \n",
       "std     90.388904   33.747467       16.150276    19.611169      39.156256   \n",
       "min   -179.170000  -54.800000       14.110000     9.000000       0.000000   \n",
       "25%    -68.510000   -8.140000       51.040000    64.000000       7.000000   \n",
       "50%     21.480000   23.270000       64.760000    78.000000      51.000000   \n",
       "75%     91.400000   48.920000       77.000000    88.000000      90.000000   \n",
       "max    179.320000   78.220000       98.600000   100.000000     100.000000   \n",
       "\n",
       "       Wind_Speed(mph)  \n",
       "count       553.000000  \n",
       "mean          7.605823  \n",
       "std           5.474940  \n",
       "min           0.110000  \n",
       "25%           3.360000  \n",
       "50%           6.110000  \n",
       "75%          10.290000  \n",
       "max          33.330000  "
      ]
     },
     "execution_count": 6,
     "metadata": {},
     "output_type": "execute_result"
    }
   ],
   "source": [
    "city_data.describe()"
   ]
  },
  {
   "cell_type": "markdown",
   "metadata": {},
   "source": [
    "## Inspect the data and remove the cities where the humidity > 100%.\n",
    "----\n",
    "Skip this step if there are no cities that have humidity > 100%. "
   ]
  },
  {
   "cell_type": "code",
   "execution_count": 7,
   "metadata": {},
   "outputs": [
    {
     "data": {
      "text/html": [
       "<div>\n",
       "<style scoped>\n",
       "    .dataframe tbody tr th:only-of-type {\n",
       "        vertical-align: middle;\n",
       "    }\n",
       "\n",
       "    .dataframe tbody tr th {\n",
       "        vertical-align: top;\n",
       "    }\n",
       "\n",
       "    .dataframe thead th {\n",
       "        text-align: right;\n",
       "    }\n",
       "</style>\n",
       "<table border=\"1\" class=\"dataframe\">\n",
       "  <thead>\n",
       "    <tr style=\"text-align: right;\">\n",
       "      <th></th>\n",
       "      <th>Country</th>\n",
       "      <th>City</th>\n",
       "      <th>Longitude</th>\n",
       "      <th>Latitude</th>\n",
       "      <th>Temperature(F)</th>\n",
       "      <th>Humidity(%)</th>\n",
       "      <th>Cloudiness(%)</th>\n",
       "      <th>Wind_Speed(mph)</th>\n",
       "    </tr>\n",
       "  </thead>\n",
       "  <tbody>\n",
       "  </tbody>\n",
       "</table>\n",
       "</div>"
      ],
      "text/plain": [
       "Empty DataFrame\n",
       "Columns: [Country, City, Longitude, Latitude, Temperature(F), Humidity(%), Cloudiness(%), Wind_Speed(mph)]\n",
       "Index: []"
      ]
     },
     "execution_count": 7,
     "metadata": {},
     "output_type": "execute_result"
    }
   ],
   "source": [
    "city_data[city_data[\"Humidity(%)\"] > 100]"
   ]
  },
  {
   "cell_type": "markdown",
   "metadata": {},
   "source": [
    "## Plotting the Data\n",
    "* Use proper labeling of the plots using plot titles (including date of analysis) and axes labels.\n",
    "* Save the plotted figures as .pngs."
   ]
  },
  {
   "cell_type": "markdown",
   "metadata": {},
   "source": [
    "## Latitude vs. Temperature Plot"
   ]
  },
  {
   "cell_type": "code",
   "execution_count": 8,
   "metadata": {
    "scrolled": true
   },
   "outputs": [
    {
     "data": {
      "image/png": "[encoded data removed]",
      "text/plain": [
       "<Figure size 432x288 with 1 Axes>"
      ]
     },
     "metadata": {
      "needs_background": "light"
     },
     "output_type": "display_data"
    },
    {
     "data": {
      "text/plain": [
       "<Figure size 432x288 with 0 Axes>"
      ]
     },
     "metadata": {},
     "output_type": "display_data"
    }
   ],
   "source": [
    "# Temperature (F) vs. Latitude scatter plot\n",
    "plt.scatter(city_data[\"Latitude\"], city_data[\"Temperature(F)\"], marker=\"o\")\n",
    "\n",
    "#Label plot\n",
    "plt.title(\"Temperature (F) vs. Latitude\")\n",
    "plt.ylabel(\"Temperature (F)\")\n",
    "plt.xlabel(\"Latitude\")\n",
    "plt.grid(True)\n",
    "\n",
    "plt.show()\n",
    "plt.savefig('output_data/Fig1.png')\n",
    "#Scatter plot analyses the relationship between Temperature and Latitude "
   ]
  },
  {
   "cell_type": "markdown",
   "metadata": {},
   "source": [
    "## Latitude vs. Humidity Plot"
   ]
  },
  {
   "cell_type": "code",
   "execution_count": 9,
   "metadata": {},
   "outputs": [
    {
     "data": {
      "image/png": "[encoded data removed]",
      "text/plain": [
       "<Figure size 432x288 with 1 Axes>"
      ]
     },
     "metadata": {
      "needs_background": "light"
     },
     "output_type": "display_data"
    },
    {
     "data": {
      "text/plain": [
       "<Figure size 432x288 with 0 Axes>"
      ]
     },
     "metadata": {},
     "output_type": "display_data"
    }
   ],
   "source": [
    "# Humidity (%) vs. Latitude scatter plot\n",
    "plt.scatter(city_data[\"Latitude\"], city_data[\"Humidity(%)\"], marker=\"o\")\n",
    "\n",
    "#Label plot\n",
    "plt.title(\"Temperature (F) vs. Humidity(%)\")\n",
    "plt.ylabel(\"Humidity(%)\")\n",
    "plt.xlabel(\"Latitude\")\n",
    "plt.grid(True)\n",
    "\n",
    "plt.show()\n",
    "plt.savefig('output_data/Fig2.png')\n",
    "#Scatter plot analyses the relationship between Humidity and Latitude "
   ]
  },
  {
   "cell_type": "markdown",
   "metadata": {},
   "source": [
    "## Latitude vs. Cloudiness Plot"
   ]
  },
  {
   "cell_type": "code",
   "execution_count": 10,
   "metadata": {},
   "outputs": [
    {
     "data": {
      "image/png": "[encoded data removed]",
      "text/plain": [
       "<Figure size 432x288 with 1 Axes>"
      ]
     },
     "metadata": {
      "needs_background": "light"
     },
     "output_type": "display_data"
    },
    {
     "data": {
      "text/plain": [
       "<Figure size 432x288 with 0 Axes>"
      ]
     },
     "metadata": {},
     "output_type": "display_data"
    }
   ],
   "source": [
    "# Cloudiness (%)  vs. Latitude scatter plot\n",
    "plt.scatter(city_data[\"Latitude\"], city_data[\"Cloudiness(%)\"], marker=\"o\")\n",
    "\n",
    "#Label plot\n",
    "plt.title(\"Temperature (F) vs. Cloudiness (%) \")\n",
    "plt.ylabel(\"Cloudiness (%)\")\n",
    "plt.xlabel(\"Latitude\")\n",
    "plt.grid(True)\n",
    "\n",
    "plt.show()\n",
    "plt.savefig('output_data/Fig3.png')\n",
    "#Scatter plot analyses the relationship between Cloudiness and Latitude "
   ]
  },
  {
   "cell_type": "markdown",
   "metadata": {},
   "source": [
    "## Latitude vs. Wind Speed Plot"
   ]
  },
  {
   "cell_type": "code",
   "execution_count": 11,
   "metadata": {},
   "outputs": [
    {
     "data": {
      "image/png": "[encoded data removed]",
      "text/plain": [
       "<Figure size 432x288 with 1 Axes>"
      ]
     },
     "metadata": {
      "needs_background": "light"
     },
     "output_type": "display_data"
    },
    {
     "data": {
      "text/plain": [
       "<Figure size 432x288 with 0 Axes>"
      ]
     },
     "metadata": {},
     "output_type": "display_data"
    }
   ],
   "source": [
    "# Wind Speed (mph)  vs. Latitude scatter plot\n",
    "plt.scatter(city_data[\"Latitude\"], city_data[\"Wind_Speed(mph)\"], marker=\"o\")\n",
    "\n",
    "#Label plot\n",
    "plt.title(\"Temperature (F) vs. Wind Speed (mph) \")\n",
    "plt.ylabel(\"Wind Speed (mph)\")\n",
    "plt.xlabel(\"Latitude\")\n",
    "plt.grid(True)\n",
    "\n",
    "plt.show()\n",
    "plt.savefig('output_data/Fig4.png')\n",
    "#Scatter plot analyses the relationship between Wind Speed and Latitude "
   ]
  },
  {
   "cell_type": "markdown",
   "metadata": {},
   "source": [
    "## Linear Regression"
   ]
  },
  {
   "cell_type": "code",
   "execution_count": 12,
   "metadata": {},
   "outputs": [
    {
     "data": {
      "text/html": [
       "<div>\n",
       "<style scoped>\n",
       "    .dataframe tbody tr th:only-of-type {\n",
       "        vertical-align: middle;\n",
       "    }\n",
       "\n",
       "    .dataframe tbody tr th {\n",
       "        vertical-align: top;\n",
       "    }\n",
       "\n",
       "    .dataframe thead th {\n",
       "        text-align: right;\n",
       "    }\n",
       "</style>\n",
       "<table border=\"1\" class=\"dataframe\">\n",
       "  <thead>\n",
       "    <tr style=\"text-align: right;\">\n",
       "      <th></th>\n",
       "      <th>Country</th>\n",
       "      <th>City</th>\n",
       "      <th>Longitude</th>\n",
       "      <th>Latitude</th>\n",
       "      <th>Temperature(F)</th>\n",
       "      <th>Humidity(%)</th>\n",
       "      <th>Cloudiness(%)</th>\n",
       "      <th>Wind_Speed(mph)</th>\n",
       "    </tr>\n",
       "  </thead>\n",
       "  <tbody>\n",
       "    <tr>\n",
       "      <th>0</th>\n",
       "      <td>PF</td>\n",
       "      <td>Atuona</td>\n",
       "      <td>-139.03</td>\n",
       "      <td>-9.80</td>\n",
       "      <td>78.49</td>\n",
       "      <td>75</td>\n",
       "      <td>0</td>\n",
       "      <td>19.06</td>\n",
       "    </tr>\n",
       "    <tr>\n",
       "      <th>1</th>\n",
       "      <td>AR</td>\n",
       "      <td>Ushuaia</td>\n",
       "      <td>-68.30</td>\n",
       "      <td>-54.80</td>\n",
       "      <td>33.80</td>\n",
       "      <td>80</td>\n",
       "      <td>75</td>\n",
       "      <td>21.92</td>\n",
       "    </tr>\n",
       "    <tr>\n",
       "      <th>2</th>\n",
       "      <td>ZA</td>\n",
       "      <td>Prieska</td>\n",
       "      <td>22.75</td>\n",
       "      <td>-29.66</td>\n",
       "      <td>46.51</td>\n",
       "      <td>45</td>\n",
       "      <td>0</td>\n",
       "      <td>4.88</td>\n",
       "    </tr>\n",
       "    <tr>\n",
       "      <th>3</th>\n",
       "      <td>ID</td>\n",
       "      <td>Bengkulu</td>\n",
       "      <td>102.27</td>\n",
       "      <td>-3.80</td>\n",
       "      <td>85.57</td>\n",
       "      <td>58</td>\n",
       "      <td>85</td>\n",
       "      <td>7.16</td>\n",
       "    </tr>\n",
       "    <tr>\n",
       "      <th>4</th>\n",
       "      <td>MZ</td>\n",
       "      <td>Montepuez</td>\n",
       "      <td>39.00</td>\n",
       "      <td>-13.13</td>\n",
       "      <td>66.51</td>\n",
       "      <td>87</td>\n",
       "      <td>99</td>\n",
       "      <td>2.77</td>\n",
       "    </tr>\n",
       "  </tbody>\n",
       "</table>\n",
       "</div>"
      ],
      "text/plain": [
       "  Country       City  Longitude  Latitude  Temperature(F)  Humidity(%)  \\\n",
       "0      PF     Atuona    -139.03     -9.80           78.49           75   \n",
       "1      AR    Ushuaia     -68.30    -54.80           33.80           80   \n",
       "2      ZA    Prieska      22.75    -29.66           46.51           45   \n",
       "3      ID   Bengkulu     102.27     -3.80           85.57           58   \n",
       "4      MZ  Montepuez      39.00    -13.13           66.51           87   \n",
       "\n",
       "   Cloudiness(%)  Wind_Speed(mph)  \n",
       "0              0            19.06  \n",
       "1             75            21.92  \n",
       "2              0             4.88  \n",
       "3             85             7.16  \n",
       "4             99             2.77  "
      ]
     },
     "execution_count": 12,
     "metadata": {},
     "output_type": "execute_result"
    }
   ],
   "source": [
    "#Create Nothern and Southern Hemisphere Dataframes\n",
    "north_city_data = city_data[city_data[\"Latitude\"]>=0].reset_index(drop = True)\n",
    "\n",
    "south_city_data = city_data[city_data[\"Latitude\"]<0].reset_index(drop = True)\n",
    "\n",
    "south_city_data.head()"
   ]
  },
  {
   "cell_type": "code",
   "execution_count": 13,
   "metadata": {},
   "outputs": [],
   "source": [
    "#Create function to run regression lines\n",
    "\n",
    "def regress(x,y):\n",
    "    x_label = x.columns[0]\n",
    "    x = x[x_label]\n",
    "    \n",
    "    y_label = y.columns[0]\n",
    "    y = y[y_label]\n",
    "    #Regression Line\n",
    "    (slope, intercept, rvalue, pvalue, stderr) = stats.linregress(x, y)\n",
    "\n",
    "    # Get regression values\n",
    "    regress_values = x * slope + intercept\n",
    "\n",
    "    # Create line equation string\n",
    "    line_eq = \"y = \" + str(round(slope,2)) + \"x +\" + str(round(intercept,2))\n",
    "    \n",
    "    #Label Axis\n",
    "    plt.xlabel(x_label)\n",
    "    plt.ylabel(y_label)\n",
    "    plt.annotate(line_eq, ((max(x)/1.6), (max(y)/1.5)),fontsize=15,color=\"red\")\n",
    "\n",
    "    # Create Plot\n",
    "    plt.scatter(x, y)\n",
    "    plt.plot(x,regress_values,\"r-\")\n",
    "\n",
    "    # Print r value\n",
    "    print(f\"The r-value is: {rvalue}\")\n",
    "    print(f\"The r-value squared is: {rvalue*rvalue}\")\n",
    "\n",
    "    # Show plot\n",
    "    plt.show()\n",
    "    \n",
    "    return;"
   ]
  },
  {
   "cell_type": "markdown",
   "metadata": {},
   "source": [
    "####  Northern Hemisphere - Max Temp vs. Latitude Linear Regression"
   ]
  },
  {
   "cell_type": "code",
   "execution_count": 14,
   "metadata": {},
   "outputs": [
    {
     "name": "stdout",
     "output_type": "stream",
     "text": [
      "The r-value is: -0.8667571518157691\n",
      "The r-value squared is: 0.7512679602237842\n"
     ]
    },
    {
     "data": {
      "image/png": "[encoded data removed]",
      "text/plain": [
       "<Figure size 432x288 with 1 Axes>"
      ]
     },
     "metadata": {
      "needs_background": "light"
     },
     "output_type": "display_data"
    }
   ],
   "source": [
    "regress(north_city_data[[\"Latitude\"]],north_city_data[[\"Temperature(F)\"]])"
   ]
  },
  {
   "cell_type": "markdown",
   "metadata": {},
   "source": [
    "####  Southern Hemisphere - Max Temp vs. Latitude Linear Regression"
   ]
  },
  {
   "cell_type": "code",
   "execution_count": 15,
   "metadata": {},
   "outputs": [
    {
     "name": "stdout",
     "output_type": "stream",
     "text": [
      "The r-value is: 0.745627320743811\n",
      "The r-value squared is: 0.555960101439594\n"
     ]
    },
    {
     "data": {
      "image/png": "[encoded data removed]",
      "text/plain": [
       "<Figure size 432x288 with 1 Axes>"
      ]
     },
     "metadata": {
      "needs_background": "light"
     },
     "output_type": "display_data"
    }
   ],
   "source": [
    "regress(south_city_data[[\"Latitude\"]],south_city_data[[\"Temperature(F)\"]])\n",
    "\n",
    "#The r-value for both demonstrates that there is a strong negative correlation in the Northern Hemisphere \n",
    "# and a strong negative correlation in the Southern Hemisphere between latitude and temperature.\n",
    "#The correlation is stronger in the Northern Hemisphere than the Southern "
   ]
  },
  {
   "cell_type": "markdown",
   "metadata": {},
   "source": [
    "####  Northern Hemisphere - Humidity (%) vs. Latitude Linear Regression"
   ]
  },
  {
   "cell_type": "code",
   "execution_count": 16,
   "metadata": {},
   "outputs": [
    {
     "name": "stdout",
     "output_type": "stream",
     "text": [
      "The r-value is: 0.08968848714012384\n",
      "The r-value squared is: 0.00804402472548416\n"
     ]
    },
    {
     "data": {
      "image/png": "[encoded data removed]",
      "text/plain": [
       "<Figure size 432x288 with 1 Axes>"
      ]
     },
     "metadata": {
      "needs_background": "light"
     },
     "output_type": "display_data"
    }
   ],
   "source": [
    "regress(north_city_data[[\"Latitude\"]],north_city_data[[\"Humidity(%)\"]])"
   ]
  },
  {
   "cell_type": "markdown",
   "metadata": {},
   "source": [
    "####  Southern Hemisphere - Humidity (%) vs. Latitude Linear Regression"
   ]
  },
  {
   "cell_type": "code",
   "execution_count": 22,
   "metadata": {},
   "outputs": [
    {
     "name": "stdout",
     "output_type": "stream",
     "text": [
      "The r-value is: 0.1678400482717317\n",
      "The r-value squared is: 0.028170281803857233\n"
     ]
    },
    {
     "data": {
      "image/png": "[encoded data removed]",
      "text/plain": [
       "<Figure size 432x288 with 1 Axes>"
      ]
     },
     "metadata": {
      "needs_background": "light"
     },
     "output_type": "display_data"
    }
   ],
   "source": [
    "regress(south_city_data[[\"Latitude\"]],south_city_data[[\"Humidity(%)\"]])\n",
    "\n",
    "#The r-value for both demonstrates that there is a very weak positive correlation between latitude and humidity.\n",
    "#The correlation is stronger in the Southern Hemisphere than the Northern "
   ]
  },
  {
   "cell_type": "markdown",
   "metadata": {},
   "source": [
    "####  Northern Hemisphere - Cloudiness (%) vs. Latitude Linear Regression"
   ]
  },
  {
   "cell_type": "code",
   "execution_count": 18,
   "metadata": {},
   "outputs": [
    {
     "name": "stdout",
     "output_type": "stream",
     "text": [
      "The r-value is: 0.11060965674756167\n",
      "The r-value squared is: 0.012234496165813414\n"
     ]
    },
    {
     "data": {
      "image/png": "[encoded data removed]",
      "text/plain": [
       "<Figure size 432x288 with 1 Axes>"
      ]
     },
     "metadata": {
      "needs_background": "light"
     },
     "output_type": "display_data"
    }
   ],
   "source": [
    "regress(north_city_data[[\"Latitude\"]],north_city_data[[\"Cloudiness(%)\"]])"
   ]
  },
  {
   "cell_type": "markdown",
   "metadata": {},
   "source": [
    "####  Southern Hemisphere - Cloudiness (%) vs. Latitude Linear Regression"
   ]
  },
  {
   "cell_type": "code",
   "execution_count": 19,
   "metadata": {},
   "outputs": [
    {
     "name": "stdout",
     "output_type": "stream",
     "text": [
      "The r-value is: 0.041437638509214114\n",
      "The r-value squared is: 0.0017170778852203046\n"
     ]
    },
    {
     "data": {
      "image/png": "[encoded data removed]",
      "text/plain": [
       "<Figure size 432x288 with 1 Axes>"
      ]
     },
     "metadata": {
      "needs_background": "light"
     },
     "output_type": "display_data"
    }
   ],
   "source": [
    "regress(south_city_data[[\"Latitude\"]],south_city_data[[\"Cloudiness(%)\"]])\n",
    "#The r-value for both demonstrates that there is a very weak positive correlation between latitude and cloudiness.\n",
    "#The correlation is stronger in the Northern Hemisphere than the Southern "
   ]
  },
  {
   "cell_type": "markdown",
   "metadata": {},
   "source": [
    "####  Northern Hemisphere - Wind Speed (mph) vs. Latitude Linear Regression"
   ]
  },
  {
   "cell_type": "code",
   "execution_count": 20,
   "metadata": {},
   "outputs": [
    {
     "name": "stdout",
     "output_type": "stream",
     "text": [
      "The r-value is: 0.1467163578789476\n",
      "The r-value squared is: 0.02152568966926343\n"
     ]
    },
    {
     "data": {
      "image/png": "[encoded data removed]",
      "text/plain": [
       "<Figure size 432x288 with 1 Axes>"
      ]
     },
     "metadata": {
      "needs_background": "light"
     },
     "output_type": "display_data"
    }
   ],
   "source": [
    "regress(north_city_data[[\"Latitude\"]],north_city_data[[\"Wind_Speed(mph)\"]])"
   ]
  },
  {
   "cell_type": "markdown",
   "metadata": {},
   "source": [
    "####  Southern Hemisphere - Wind Speed (mph) vs. Latitude Linear Regression"
   ]
  },
  {
   "cell_type": "code",
   "execution_count": 23,
   "metadata": {},
   "outputs": [
    {
     "name": "stdout",
     "output_type": "stream",
     "text": [
      "The r-value is: -0.23995838823297094\n",
      "The r-value squared is: 0.05758002808336521\n"
     ]
    },
    {
     "data": {
      "image/png": "[encoded data removed]",
      "text/plain": [
       "<Figure size 432x288 with 1 Axes>"
      ]
     },
     "metadata": {
      "needs_background": "light"
     },
     "output_type": "display_data"
    }
   ],
   "source": [
    "regress(south_city_data[[\"Latitude\"]],south_city_data[[\"Wind_Speed(mph)\"]])\n",
    "\n",
    "#The r-value for both demonstrates that there is a very weak positive correlation in the northern hemisphere \n",
    "# and a weak negative correlation in the southern hemisphere between latitude and wind speed.\n",
    "#The correlation is stronger in the Southern Hemisphere than the Northern "
   ]
  },
  {
   "cell_type": "code",
   "execution_count": null,
   "metadata": {},
   "outputs": [],
   "source": []
  }
 ],
 "metadata": {
  "anaconda-cloud": {},
  "kernel_info": {
   "name": "python3"
  },
  "kernelspec": {
   "display_name": "Python 3",
   "language": "python",
   "name": "python3"
  },
  "language_info": {
   "codemirror_mode": {
    "name": "ipython",
    "version": 3
   },
   "file_extension": ".py",
   "mimetype": "text/x-python",
   "name": "python",
   "nbconvert_exporter": "python",
   "pygments_lexer": "ipython3",
   "version": "3.6.10"
  },
  "latex_envs": {
   "LaTeX_envs_menu_present": true,
   "autoclose": false,
   "autocomplete": true,
   "bibliofile": "biblio.bib",
   "cite_by": "apalike",
   "current_citInitial": 1,
   "eqLabelWithNumbers": true,
   "eqNumInitial": 1,
   "hotkeys": {
    "equation": "Ctrl-E",
    "itemize": "Ctrl-I"
   },
   "labels_anchors": false,
   "latex_user_defs": false,
   "report_style_numbering": false,
   "user_envs_cfg": false
  },
  "nteract": {
   "version": "0.12.3"
  }
 },
 "nbformat": 4,
 "nbformat_minor": 2
}
